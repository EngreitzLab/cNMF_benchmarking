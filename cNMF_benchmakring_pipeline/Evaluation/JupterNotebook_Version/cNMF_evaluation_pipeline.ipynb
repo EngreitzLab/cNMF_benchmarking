{
 "cells": [
  {
   "cell_type": "markdown",
   "metadata": {},
   "source": [
    "# Set-up"
   ]
  },
  {
   "cell_type": "code",
   "execution_count": 2,
   "metadata": {},
   "outputs": [
    {
     "name": "stderr",
     "output_type": "stream",
     "text": [
      "/home/users/ymo/.local/lib/python3.9/site-packages/tqdm/auto.py:21: TqdmWarning: IProgress not found. Please update jupyter and ipywidgets. See https://ipywidgets.readthedocs.io/en/stable/user_install.html\n",
      "  from .autonotebook import tqdm as notebook_tqdm\n"
     ]
    }
   ],
   "source": [
    "import os\n",
    "import sys\n",
    "import yaml\n",
    "import logging\n",
    "import mudata\n",
    "import pandas as pd\n",
    "\n",
    "# Change path to wherever you have repo locally\n",
    "sys.path.append('/oak/stanford/groups/engreitz/Users/ymo/Tools/cNMF_benchmarking/cNMF_benchmakring_pipeline')\n",
    "\n",
    "from Evaluation.src import (\n",
    "    compute_categorical_association,\n",
    "    compute_geneset_enrichment,\n",
    "    compute_trait_enrichment,\n",
    "    compute_perturbation_association,\n",
    "    compute_explained_variance_ratio,\n",
    "    compute_motif_enrichment\n",
    ")\n",
    "from Evaluation.src.enrichment_trait import process_enrichment_data"
   ]
  },
  {
   "cell_type": "markdown",
   "metadata": {},
   "source": [
    "# categorical association, geneset enrichment, GO term enrichment, trait enrichment"
   ]
  },
  {
   "cell_type": "code",
   "execution_count": 5,
   "metadata": {},
   "outputs": [
    {
     "name": "stderr",
     "output_type": "stream",
     "text": [
      "INFO:root:Performing tests at single-cell level. Significance will likely be inflated\n",
      "Testing sample association: 100%|██████████| 30/30 [00:03<00:00,  9.59programs/s]\n",
      "Identifying differential sample: 100%|██████████| 30/30 [00:03<00:00,  7.85programs/s]\n",
      "INFO:root:Downloading and generating Enrichr library gene sets...\n",
      "INFO:root:0002 gene_sets have been filtered out when max_size=2000 and min_size=0\n",
      "Running Fisher enrichment: 100%|██████████| 30/30 [00:09<00:00,  3.14programs/s]\n",
      "INFO:root:Downloading and generating Enrichr library gene sets...\n",
      "INFO:root:0001 gene_sets have been filtered out when max_size=2000 and min_size=0\n",
      "Running Fisher enrichment: 100%|██████████| 30/30 [00:25<00:00,  1.17programs/s]\n",
      "Running Fisher enrichment: 100%|██████████| 30/30 [00:02<00:00, 13.33programs/s]\n",
      "INFO:root:Performing tests at single-cell level. Significance will likely be inflated\n",
      "Testing sample association: 100%|██████████| 60/60 [00:06<00:00,  9.43programs/s]\n",
      "Identifying differential sample: 100%|██████████| 60/60 [00:07<00:00,  7.90programs/s]\n",
      "INFO:root:Downloading and generating Enrichr library gene sets...\n",
      "INFO:root:0002 gene_sets have been filtered out when max_size=2000 and min_size=0\n",
      "Running Fisher enrichment: 100%|██████████| 60/60 [00:16<00:00,  3.54programs/s]\n",
      "INFO:root:Downloading and generating Enrichr library gene sets...\n",
      "INFO:root:0001 gene_sets have been filtered out when max_size=2000 and min_size=0\n",
      "Running Fisher enrichment: 100%|██████████| 60/60 [00:48<00:00,  1.23programs/s]\n",
      "Running Fisher enrichment: 100%|██████████| 60/60 [00:04<00:00, 13.60programs/s]\n",
      "INFO:root:Performing tests at single-cell level. Significance will likely be inflated\n",
      "Testing sample association: 100%|██████████| 80/80 [00:08<00:00,  9.42programs/s]\n",
      "Identifying differential sample: 100%|██████████| 80/80 [00:10<00:00,  7.86programs/s]\n",
      "INFO:root:Downloading and generating Enrichr library gene sets...\n",
      "INFO:root:0002 gene_sets have been filtered out when max_size=2000 and min_size=0\n",
      "Running Fisher enrichment: 100%|██████████| 80/80 [00:22<00:00,  3.55programs/s]\n",
      "INFO:root:Downloading and generating Enrichr library gene sets...\n",
      "INFO:root:0001 gene_sets have been filtered out when max_size=2000 and min_size=0\n",
      "Running Fisher enrichment: 100%|██████████| 80/80 [01:05<00:00,  1.23programs/s]\n",
      "Running Fisher enrichment: 100%|██████████| 80/80 [00:05<00:00, 13.76programs/s]\n",
      "INFO:root:Performing tests at single-cell level. Significance will likely be inflated\n",
      "Testing sample association: 100%|██████████| 100/100 [00:10<00:00,  9.25programs/s]\n",
      "Identifying differential sample: 100%|██████████| 100/100 [00:12<00:00,  7.70programs/s]\n",
      "INFO:root:Downloading and generating Enrichr library gene sets...\n",
      "INFO:root:0002 gene_sets have been filtered out when max_size=2000 and min_size=0\n",
      "Running Fisher enrichment: 100%|██████████| 100/100 [00:28<00:00,  3.51programs/s]\n",
      "INFO:root:Downloading and generating Enrichr library gene sets...\n",
      "INFO:root:0001 gene_sets have been filtered out when max_size=2000 and min_size=0\n",
      "Running Fisher enrichment: 100%|██████████| 100/100 [01:21<00:00,  1.22programs/s]\n",
      "Running Fisher enrichment: 100%|██████████| 100/100 [00:07<00:00, 13.85programs/s]\n",
      "INFO:root:Performing tests at single-cell level. Significance will likely be inflated\n",
      "Testing sample association: 100%|██████████| 200/200 [00:23<00:00,  8.46programs/s]\n",
      "Identifying differential sample: 100%|██████████| 200/200 [00:27<00:00,  7.20programs/s]\n",
      "INFO:root:Downloading and generating Enrichr library gene sets...\n",
      "INFO:root:0002 gene_sets have been filtered out when max_size=2000 and min_size=0\n",
      "Running Fisher enrichment: 100%|██████████| 200/200 [00:57<00:00,  3.50programs/s]\n",
      "INFO:root:Downloading and generating Enrichr library gene sets...\n",
      "INFO:root:0001 gene_sets have been filtered out when max_size=2000 and min_size=0\n",
      "Running Fisher enrichment: 100%|██████████| 200/200 [02:44<00:00,  1.21programs/s]\n",
      "Running Fisher enrichment: 100%|██████████| 200/200 [00:14<00:00, 14.21programs/s]\n",
      "INFO:root:Performing tests at single-cell level. Significance will likely be inflated\n",
      "Testing sample association: 100%|██████████| 250/250 [00:35<00:00,  6.99programs/s]\n",
      "Identifying differential sample: 100%|██████████| 250/250 [00:38<00:00,  6.54programs/s]\n",
      "INFO:root:Downloading and generating Enrichr library gene sets...\n",
      "INFO:root:0002 gene_sets have been filtered out when max_size=2000 and min_size=0\n",
      "Running Fisher enrichment: 100%|██████████| 250/250 [01:12<00:00,  3.45programs/s]\n",
      "INFO:root:Downloading and generating Enrichr library gene sets...\n",
      "INFO:root:0001 gene_sets have been filtered out when max_size=2000 and min_size=0\n",
      "Running Fisher enrichment: 100%|██████████| 250/250 [03:27<00:00,  1.20programs/s]\n",
      "Running Fisher enrichment: 100%|██████████| 250/250 [00:17<00:00, 14.13programs/s]\n",
      "INFO:root:Performing tests at single-cell level. Significance will likely be inflated\n",
      "Testing sample association: 100%|██████████| 300/300 [00:35<00:00,  8.54programs/s]\n",
      "Identifying differential sample: 100%|██████████| 300/300 [00:40<00:00,  7.43programs/s]\n",
      "INFO:root:Downloading and generating Enrichr library gene sets...\n",
      "INFO:root:0002 gene_sets have been filtered out when max_size=2000 and min_size=0\n",
      "Running Fisher enrichment: 100%|██████████| 300/300 [01:29<00:00,  3.36programs/s]\n",
      "INFO:root:Downloading and generating Enrichr library gene sets...\n",
      "INFO:root:0001 gene_sets have been filtered out when max_size=2000 and min_size=0\n",
      "Running Fisher enrichment: 100%|██████████| 300/300 [04:22<00:00,  1.14programs/s]\n",
      "Running Fisher enrichment: 100%|██████████| 300/300 [00:21<00:00, 14.20programs/s]\n"
     ]
    }
   ],
   "source": [
    "\n",
    "folder = \"/oak/stanford/groups/engreitz/Users/ymo/NMF_re-inplementing/Results/torch-cNMF_evaluation/100k_cells_10iter_torch_mu_batch\"\n",
    "\n",
    "def assign_guide(mdatam,file):\n",
    "\n",
    "    # read mdata with guide\n",
    "    mdata_guide = mudata.read(file)\n",
    "\n",
    "    mdata['cNMF'].uns[\"guide_names\"] = mdata_guide[\"cNMF_100\"].uns[\"guide_names\"]\n",
    "    mdata['cNMF'].uns[\"guide_targets\"] = mdata_guide[\"cNMF_100\"].uns[\"guide_targets\"]\n",
    "    mdata['cNMF'].obsm[\"guide_assignment\"] = mdata_guide[\"cNMF_100\"].obsm[\"guide_assignment\"]\n",
    "\n",
    "\n",
    "for k in [30, 60, 80, 100, 200, 250, 300]:  \n",
    "\n",
    "    os.makedirs(f\"{folder}/Eval/{k}\", exist_ok=True)\n",
    "\n",
    "    output_folder = f\"{folder}/Eval/{k}\"\n",
    "\n",
    "    # Load mdata\n",
    "    mdata = mudata.read('{}/adata/cNMF_{}_2_0.h5mu'.format(folder,k))\n",
    "    assign_guide(mdata,\"/oak/stanford/groups/engreitz/Users/ymo/Tools/cNMF_benchmarking/cNMF_benchmakring_pipeline/Evaluation/Resources/mdata_guide.h5mu\" ) \n",
    "\n",
    "\n",
    "    # Run categorical assocation\n",
    "    results_df, posthoc_df = compute_categorical_association(mdata, prog_key='cNMF', categorical_key='sample', \n",
    "                                                            pseudobulk_key=None, test='dunn', n_jobs=-1, inplace=False)\n",
    "\n",
    "    results_df.to_csv('{}/{}_categorical_association_results.txt'.format(output_folder,k), sep='\\t', index=False) # This was made wide form to insert into .var of the program anndata.\n",
    "    posthoc_df.to_csv('{}/{}_categorical_association_posthoc.txt'.format(output_folder,k), sep='\\t', index=False)\n",
    "\n",
    " \n",
    "    # Run perturbation assocation\n",
    "    for samp in mdata['rna'].obs['sample'].unique():\n",
    "        mdata_ = mdata[mdata['rna'].obs['sample']==samp]\n",
    "        test_stats_df = compute_perturbation_association(mdata_, prog_key='cNMF', \n",
    "                                                        collapse_targets=True,\n",
    "                                                        pseudobulk=False,\n",
    "                                                        reference_targets=('non-targeting'),\n",
    "                                                        n_jobs=-1, inplace=False)\n",
    "\n",
    "        test_stats_df.to_csv('{}/{}_perturbation_association_results_{}.txt'.format(folder,k,samp), sep='\\t', index=False)\n",
    "  \n",
    "\n",
    "    # Gene-set enrichment\n",
    "    pre_res = compute_geneset_enrichment(mdata, prog_key='cNMF', data_key='rna', prog_nam=None,\n",
    "                                        organism='human', library='Reactome_2022', method=\"fisher\",\n",
    "                                        database='enrichr', loading_rank_thresh=300, n_jobs=-1, \n",
    "                                        inplace=False, user_geneset=None)\n",
    "    pre_res.to_csv('{}/{}_geneset_enrichment.txt'.format(output_folder,k), sep='\\t', index=False)\n",
    "\n",
    "    # GO Term enrichment\n",
    "    pre_res = compute_geneset_enrichment(mdata, prog_key='cNMF', data_key='rna', prog_nam=None,\n",
    "                                        organism='human', library='GO_Biological_Process_2023', method=\"fisher\",\n",
    "                                        database='enrichr', loading_rank_thresh=300, n_jobs=-1, \n",
    "                                        inplace=False, user_geneset=None)\n",
    "    pre_res.to_csv('{}/{}_GO_term_enrichment.txt'.format(output_folder,k), sep='\\t', index=False)\n",
    "\n",
    "    # Run trait enrichment\n",
    "    pre_res_trait = compute_trait_enrichment(mdata, gwas_data='/oak/stanford/groups/engreitz/Users/ymo/Tools/cNMF_benchmarking/cNMF_benchmakring_pipeline/Evaluation/Resources/OpenTargets_L2G_Filtered.csv.gz', \n",
    "                                            prog_key='cNMF', prog_nam=None, data_key='rna', \n",
    "                                            library='OT_GWAS', n_jobs=-1, inplace=False, \n",
    "                                            key_column='trait_efos', gene_column='gene_name', \n",
    "                                            method='fisher', loading_rank_thresh=300)\n",
    "    pre_res_trait.to_csv('{}/{}_trait_enrichment.txt'.format(output_folder,k), sep='\\t', index=False)\n",
    "\n",
    "    "
   ]
  },
  {
   "cell_type": "markdown",
   "metadata": {},
   "source": [
    "# Motif Enrichment"
   ]
  },
  {
   "cell_type": "code",
   "execution_count": 27,
   "metadata": {},
   "outputs": [],
   "source": [
    "# Thresholds\n",
    "score_thresh_abc_e2g_enhancer = 0.015\n",
    "score_thresh_abc_e2g_promoter = 0.8\n",
    "fimo_thresh_enhancer = 1e-6\n",
    "fimo_thresh_promoter = 1e-4\n",
    "\n",
    "output_path = '/oak/stanford/groups/engreitz/Users/ymo/NMF_re-inplementing/Results/sk-cNMF_evaluation/082525_10k_10iter_sk_mu_frobenius/Eval/30'\n"
   ]
  },
  {
   "cell_type": "code",
   "execution_count": null,
   "metadata": {},
   "outputs": [],
   "source": [
    "# # Format files\n",
    "# for i in range(4):\n",
    "#     e2g = pd.read_csv('scE2G_links/EnhancerPredictionsAllPutative.ForVariantOverlap.shrunk150bp_D{}.tsv'.format(i), sep='\\t')\n",
    "\n",
    "#     e2g_enhancers = e2g.loc[(e2g['class']!='promoter') &\\\n",
    "#                             (e2g['ABC.Score']>score_thresh_abc_e2g_enhancer)]\n",
    "#     e2g_enhancers = e2g_enhancers.loc[:,['chr', 'start', 'end', 'name', 'class', 'ABC.Score', 'TargetGene']]\n",
    "#     e2g_enhancers.columns = [        'chromosome', 'start', 'end', 'seq_name', 'seq_class', 'seq_score', 'gene_name']\n",
    "\n",
    "#     e2g_enhancers.to_csv('scE2G_links/EnhancerPredictionsAllPutative.ForVariantOverlap.shrunk150bp_D{}_enhancer.tsv'.format(i), \n",
    "#                           sep='\\t', index=False)\n",
    "\n",
    "#     e2g_promoters = e2g.loc[(e2g['class']=='promoter') &\\\n",
    "#                             (e2g['ABC.Score']>score_thresh_abc_e2g_promoter)]\n",
    "#     e2g_promoters = e2g_promoters.loc[:,['chr', 'start', 'end', 'name', 'class', 'ABC.Score', 'TargetGene']]\n",
    "#     e2g_promoters.columns = ['chromosome', 'start', 'end', 'seq_name', 'seq_class', 'seq_score', 'gene_name']\n",
    "\n",
    "#     e2g_promoters.to_csv('scE2G_links/EnhancerPredictionsAllPutative.ForVariantOverlap.shrunk150bp_D{}_promoter.tsv'.format(i), \n",
    "#                         sep='\\t', index=False)"
   ]
  },
  {
   "cell_type": "code",
   "execution_count": 28,
   "metadata": {},
   "outputs": [
    {
     "data": {
      "text/html": [
       "<pre>MuData object with n_obs × n_vars = 10000 × 5481\n",
       "  2 modalities\n",
       "    rna:\t10000 x 5451\n",
       "      obs:\t&#x27;sample&#x27;, &#x27;species&#x27;, &#x27;gene_count&#x27;, &#x27;tscp_count&#x27;, &#x27;mread_count&#x27;, &#x27;leiden&#x27;\n",
       "      obsm:\t&#x27;X_pca&#x27;, &#x27;X_umap&#x27;\n",
       "      layers:\t&#x27;norm10k&#x27;\n",
       "    cNMF:\t10000 x 30\n",
       "      obs:\t&#x27;sample&#x27;, &#x27;species&#x27;, &#x27;gene_count&#x27;, &#x27;tscp_count&#x27;, &#x27;mread_count&#x27;, &#x27;leiden&#x27;\n",
       "      uns:\t&#x27;var_names&#x27;\n",
       "      varm:\t&#x27;loadings&#x27;</pre>"
      ],
      "text/plain": [
       "MuData object with n_obs × n_vars = 10000 × 5481\n",
       "  2 modalities\n",
       "    rna:\t10000 x 5451\n",
       "      obs:\t'sample', 'species', 'gene_count', 'tscp_count', 'mread_count', 'leiden'\n",
       "      obsm:\t'X_pca', 'X_umap'\n",
       "      layers:\t'norm10k'\n",
       "    cNMF:\t10000 x 30\n",
       "      obs:\t'sample', 'species', 'gene_count', 'tscp_count', 'mread_count', 'leiden'\n",
       "      uns:\t'var_names'\n",
       "      varm:\t'loadings'"
      ]
     },
     "execution_count": 28,
     "metadata": {},
     "output_type": "execute_result"
    }
   ],
   "source": [
    "# Load program data\n",
    "mdata = mudata.read('/oak/stanford/groups/engreitz/Users/ymo/NMF_re-inplementing/Results/sk-cNMF_evaluation/082525_10k_10iter_sk_mu_frobenius/adata/cNMF_30_2_0.h5mu')\n",
    "mdata"
   ]
  },
  {
   "cell_type": "code",
   "execution_count": 29,
   "metadata": {},
   "outputs": [
    {
     "name": "stdout",
     "output_type": "stream",
     "text": [
      "Number of matching genes: 3829\n",
      "Number of loci: 19781\n"
     ]
    }
   ],
   "source": [
    "# # Run in script\n",
    "\n",
    " # Run motif enrichment and save results\n",
    "os.makedirs(output_path, exist_ok=True)\n",
    "for i in range(4):\n",
    "    for class_, thresh in [('enhancer', fimo_thresh_enhancer), \n",
    "                           ('promoter', fimo_thresh_promoter)]:\n",
    "\n",
    "        loci_file = '/oak/stanford/groups/engreitz/Users/ymo/Tools/cNMF_benchmarking/cNMF_benchmakring_pipeline/Evaluation/Resources/scE2G_links/EnhancerPredictionsAllPutative.ForVariantOverlap.shrunk150bp_D{}_{}.tsv'.format(i, class_)\n",
    "        motif_match_df, motif_count_df, motif_enrichment_df = compute_motif_enrichment(\n",
    "            mdata, \n",
    "            prog_key='cNMF',\n",
    "            data_key='rna',\n",
    "            motif_file='/oak/stanford/groups/engreitz/Users/ymo/Tools/cNMF_benchmarking/cNMF_benchmakring_pipeline/Evaluation/Resources/hocomoco_meme.meme',\n",
    "            seq_file='/oak/stanford/groups/engreitz/Users/ymo/Tools/cNMF_benchmarking/cNMF_benchmakring_pipeline/Evaluation/Resources/hg38.fa',\n",
    "            loci_file=loci_file,\n",
    "            window=1000,\n",
    "            sig=thresh,\n",
    "            eps=1e-4,\n",
    "            n_top=2000,\n",
    "            n_jobs=-1,\n",
    "            inplace=False\n",
    "        )\n",
    "\n",
    "        motif_match_df.to_csv(os.path.join(output_path, f'cNMF_{class_}_pearson_topn2000_sample_D{i}_motif_match.txt'), sep='\\t', index=False)\n",
    "        motif_count_df.to_csv(os.path.join(output_path, f'cNMF_{class_}_pearson_topn2000_sample_D{i}_motif_count.txt'), sep='\\t', index=False)\n",
    "        motif_enrichment_df.to_csv(os.path.join(output_path, f'cNMF_{class_}_pearson_topn2000_sample_D{i}_motif_enrichment.txt'), sep='\\t', index=False)"
   ]
  },
  {
   "cell_type": "code",
   "execution_count": null,
   "metadata": {},
   "outputs": [],
   "source": [
    "# Import motif enrichments\n",
    "motif_enrichment_data = []\n",
    "for fil in os.listdir('cNMF_100'):\n",
    "    if 'motif_enrichment' in fil:\n",
    "        motif_enrichment_data_ = pd.read_csv('cNMF_100/{}'.format(fil), sep='\\t')\n",
    "        motif_enrichment_data_['sample'] = fil.split('sample_')[-1].split('_motif')[0]\n",
    "        if 'promoter' in fil:\n",
    "            motif_enrichment_data_['class'] = 'promoter'\n",
    "        elif 'enhancer' in fil:\n",
    "            motif_enrichment_data_['class'] = 'enhancer'            \n",
    "\n",
    "        motif_enrichment_data.append(motif_enrichment_data_)\n",
    "\n",
    "motif_enrichment_data = pd.concat(motif_enrichment_data, ignore_index=True)\n",
    "# motif_enrichment_data.to_csv('cNMF_100_motif_enrichment.txt', sep='\\t')\n",
    "# motif_enrichment_data.loc[motif_enrichment_data['class']=='promoter'].to_csv('cNMF_100_motif_enrichment_promoter.txt', sep='\\t')\n",
    "# motif_enrichment_data.loc[motif_enrichment_data['class']=='enhancer'].to_csv('cNMF_100_motif_enrichment_enhancer.txt', sep='\\t')"
   ]
  },
  {
   "cell_type": "code",
   "execution_count": null,
   "metadata": {},
   "outputs": [],
   "source": [
    "# Make summary table column\n",
    "for seq_class in ['promoter', 'enhancer']:\n",
    "    motif_enrichment_data_ = motif_enrichment_data.loc[motif_enrichment_data['class']==seq_class]\n",
    "    motif_enrichment_data_ = motif_enrichment_data_.groupby(['sample', 'program_name', 'motif']).min().reset_index()\n",
    "\n",
    "    motif_summary_data = pd.DataFrame(index=motif_enrichment_data_.program_name.unique(), columns=['top10_motifs', 'num_enriched_motifs'])\n",
    "    for prog in motif_enrichment_data_.program_name.unique():\n",
    "        motif_summary_data_ = motif_enrichment_data_.loc[(motif_enrichment_data_.program_name==prog) & ((motif_enrichment_data_.adj_pval<=0.05))]\n",
    "        motif_summary_data_ = motif_summary_data_.sort_values('stat', ascending=False).head(10).motif.values\n",
    "        motif_summary_data.loc[prog,'top10_motifs'] = ', '.join(motif_summary_data_.tolist())\n",
    "        motif_summary_data.loc[prog, 'num_enriched_motifs'] = motif_enrichment_data_.loc[(motif_enrichment_data_.program_name==prog) & ((motif_enrichment_data_.adj_pval<=0.05))].shape[0]\n",
    "        \n",
    "    motif_summary_data.to_csv('motif_summary_data_{}.txt'.format(seq_class), sep='\\t')"
   ]
  },
  {
   "cell_type": "code",
   "execution_count": null,
   "metadata": {},
   "outputs": [],
   "source": [
    "# # Copy out to dashboard\n",
    "# out_dir = '../../shared/250110_ipsc_ec_dashboard_setup/cNMF_100/'\n",
    "# for fil in os.listdir('cNMF_100'):\n",
    "#     if 'motif_' in fil:\n",
    "#         class_ = fil.split('_')[1]\n",
    "#         name = fil.split('_sample_')[1]\n",
    "#         new_nam = f'cNMF_100_{class_}_test_pearsonr_sample_{name}'\n",
    "#         if not name.startswith('D0'):\n",
    "#             new_nam = new_nam.replace('sample_', 'sample_sample_')\n",
    "#         os.system('cp {} {}'.format(os.path.join('cNMF_100', fil),\n",
    "#                                     os.path.join(out_dir, new_nam)))"
   ]
  }
 ],
 "metadata": {
  "kernelspec": {
   "display_name": "NMF_Benchmarking",
   "language": "python",
   "name": "python3"
  },
  "language_info": {
   "codemirror_mode": {
    "name": "ipython",
    "version": 3
   },
   "file_extension": ".py",
   "mimetype": "text/x-python",
   "name": "python",
   "nbconvert_exporter": "python",
   "pygments_lexer": "ipython3",
   "version": "3.9.0"
  },
  "orig_nbformat": 4
 },
 "nbformat": 4,
 "nbformat_minor": 2
}
