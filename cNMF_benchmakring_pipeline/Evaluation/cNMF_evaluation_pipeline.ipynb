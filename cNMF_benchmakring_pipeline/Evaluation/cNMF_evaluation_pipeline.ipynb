{
 "cells": [
  {
   "cell_type": "markdown",
   "metadata": {},
   "source": [
    "# Set-up"
   ]
  },
  {
   "cell_type": "code",
   "execution_count": 1,
   "metadata": {},
   "outputs": [
    {
     "name": "stderr",
     "output_type": "stream",
     "text": [
      "/home/users/ymo/.local/lib/python3.9/site-packages/tqdm/auto.py:21: TqdmWarning: IProgress not found. Please update jupyter and ipywidgets. See https://ipywidgets.readthedocs.io/en/stable/user_install.html\n",
      "  from .autonotebook import tqdm as notebook_tqdm\n"
     ]
    }
   ],
   "source": [
    "import os\n",
    "import sys\n",
    "import yaml\n",
    "import logging\n",
    "import mudata\n",
    "import pandas as pd\n",
    "\n",
    "# Change path to wherever you have repo locally\n",
    "sys.path.append('/oak/stanford/groups/engreitz/Users/ymo/Tools/cNMF_benchmarking/cNMF_benchmakring_pipeline')\n",
    "\n",
    "from Evaluation.src import (\n",
    "    compute_categorical_association,\n",
    "    compute_geneset_enrichment,\n",
    "    compute_trait_enrichment,\n",
    "    compute_perturbation_association,\n",
    "    compute_explained_variance_ratio,\n",
    "    compute_motif_enrichment\n",
    ")\n",
    "\n",
    "from Evaluation.src.enrichment_trait import process_enrichment_data"
   ]
  },
  {
   "cell_type": "code",
   "execution_count": 2,
   "metadata": {},
   "outputs": [],
   "source": [
    "# I/O paths\n",
    "path_config = \"/oak/stanford/groups/engreitz/Users/ymo/Tools/gene_network_evaluation/examples/evaluation/evaluation_pipeline.yml\"\n",
    "config = yaml.safe_load(open(path_config))"
   ]
  },
  {
   "cell_type": "markdown",
   "metadata": {},
   "source": [
    "## I/O"
   ]
  },
  {
   "cell_type": "code",
   "execution_count": 3,
   "metadata": {},
   "outputs": [
    {
     "data": {
      "text/plain": [
       "{'path_mdata': '/oak/stanford/groups/engreitz/Users/ymo/NMF_re-inplementing/Results/cNMF_evaluation_7.31.25/output/consensus_NMF/cNMF_300_2.0.h5mu',\n",
       " 'path_out': '/oak/stanford/groups/engreitz/Users/ymo/NMF_re-inplementing/Results/cNMF_evaluation_7.31.25/output/300',\n",
       " 'data_key': 'rna',\n",
       " 'prog_key': 'cNMF'}"
      ]
     },
     "execution_count": 3,
     "metadata": {},
     "output_type": "execute_result"
    }
   ],
   "source": [
    "io_config = config['io']\n",
    "io_config"
   ]
  },
  {
   "cell_type": "code",
   "execution_count": 4,
   "metadata": {},
   "outputs": [
    {
     "data": {
      "text/html": [
       "<pre>MuData object with n_obs × n_vars = 92284 × 5751\n",
       "  2 modalities\n",
       "    rna:\t92284 x 5451\n",
       "      obs:\t&#x27;sample&#x27;, &#x27;species&#x27;, &#x27;gene_count&#x27;, &#x27;tscp_count&#x27;, &#x27;mread_count&#x27;, &#x27;leiden&#x27;\n",
       "      obsm:\t&#x27;X_pca&#x27;, &#x27;X_umap&#x27;\n",
       "      layers:\t&#x27;norm10k&#x27;\n",
       "    cNMF:\t92284 x 300\n",
       "      obs:\t&#x27;sample&#x27;, &#x27;species&#x27;, &#x27;gene_count&#x27;, &#x27;tscp_count&#x27;, &#x27;mread_count&#x27;, &#x27;leiden&#x27;\n",
       "      uns:\t&#x27;var_names&#x27;\n",
       "      varm:\t&#x27;loadings&#x27;</pre>"
      ],
      "text/plain": [
       "MuData object with n_obs × n_vars = 92284 × 5751\n",
       "  2 modalities\n",
       "    rna:\t92284 x 5451\n",
       "      obs:\t'sample', 'species', 'gene_count', 'tscp_count', 'mread_count', 'leiden'\n",
       "      obsm:\t'X_pca', 'X_umap'\n",
       "      layers:\t'norm10k'\n",
       "    cNMF:\t92284 x 300\n",
       "      obs:\t'sample', 'species', 'gene_count', 'tscp_count', 'mread_count', 'leiden'\n",
       "      uns:\t'var_names'\n",
       "      varm:\t'loadings'"
      ]
     },
     "execution_count": 4,
     "metadata": {},
     "output_type": "execute_result"
    }
   ],
   "source": [
    "# Load mdata\n",
    "path_mdata = io_config['path_mdata']\n",
    "mdata = mudata.read(path_mdata)\n",
    "mdata"
   ]
  },
  {
   "cell_type": "code",
   "execution_count": 5,
   "metadata": {},
   "outputs": [
    {
     "data": {
      "text/html": [
       "<pre>MuData object with n_obs × n_vars = 92284 × 5751\n",
       "  2 modalities\n",
       "    rna:\t92284 x 5451\n",
       "      obs:\t&#x27;sample&#x27;, &#x27;species&#x27;, &#x27;gene_count&#x27;, &#x27;tscp_count&#x27;, &#x27;mread_count&#x27;, &#x27;leiden&#x27;\n",
       "      obsm:\t&#x27;X_pca&#x27;, &#x27;X_umap&#x27;\n",
       "      layers:\t&#x27;norm10k&#x27;\n",
       "    cNMF:\t92284 x 300\n",
       "      obs:\t&#x27;sample&#x27;, &#x27;species&#x27;, &#x27;gene_count&#x27;, &#x27;tscp_count&#x27;, &#x27;mread_count&#x27;, &#x27;leiden&#x27;\n",
       "      uns:\t&#x27;var_names&#x27;\n",
       "      varm:\t&#x27;loadings&#x27;</pre>"
      ],
      "text/plain": [
       "MuData object with n_obs × n_vars = 92284 × 5751\n",
       "  2 modalities\n",
       "    rna:\t92284 x 5451\n",
       "      obs:\t'sample', 'species', 'gene_count', 'tscp_count', 'mread_count', 'leiden'\n",
       "      obsm:\t'X_pca', 'X_umap'\n",
       "      layers:\t'norm10k'\n",
       "    cNMF:\t92284 x 300\n",
       "      obs:\t'sample', 'species', 'gene_count', 'tscp_count', 'mread_count', 'leiden'\n",
       "      uns:\t'var_names'\n",
       "      varm:\t'loadings'"
      ]
     },
     "execution_count": 5,
     "metadata": {},
     "output_type": "execute_result"
    }
   ],
   "source": [
    "mdata"
   ]
  },
  {
   "cell_type": "code",
   "execution_count": 6,
   "metadata": {},
   "outputs": [],
   "source": [
    "# Make path_out directory\n",
    "path_out = io_config['path_out']\n",
    "if not os.path.exists(path_out):\n",
    "    os.makedirs(path_out)"
   ]
  },
  {
   "cell_type": "code",
   "execution_count": 7,
   "metadata": {},
   "outputs": [],
   "source": [
    "# Update cNMF key to cNMF_30 and save\n",
    "old_prog_key = io_config['prog_key']\n",
    "prog_key = os.path.basename(path_out)\n",
    "mdata.mod[prog_key] = mdata.mod.pop(old_prog_key)\n",
    "mdata.update()\n",
    "mdata.write(os.path.join(path_out, f'{prog_key}.h5mu'))"
   ]
  },
  {
   "cell_type": "code",
   "execution_count": 8,
   "metadata": {},
   "outputs": [
    {
     "data": {
      "text/plain": [
       "'rna'"
      ]
     },
     "execution_count": 8,
     "metadata": {},
     "output_type": "execute_result"
    }
   ],
   "source": [
    "# Get data key\n",
    "data_key= io_config['data_key']\n",
    "data_key"
   ]
  },
  {
   "cell_type": "markdown",
   "metadata": {},
   "source": [
    "## Run categorical association"
   ]
  },
  {
   "cell_type": "code",
   "execution_count": 21,
   "metadata": {},
   "outputs": [
    {
     "name": "stderr",
     "output_type": "stream",
     "text": [
      "INFO:root:Performing tests at single-cell level. Significance will likely be inflated\n",
      "Testing sample association: 100%|██████████| 300/300 [00:36<00:00,  8.16programs/s]\n",
      "INFO:root:Running jamboree specific version of posthoc with pearsonr, this is not yet integrated into the main pipeline\n",
      "Identifying differential sample: 100%|██████████| 300/300 [01:21<00:00,  3.69programs/s]\n"
     ]
    }
   ],
   "source": [
    "# Run categorical association and save results\n",
    "categorical_assocation_config = config['categorical_association']\n",
    "categorical_keys = categorical_assocation_config['categorical_keys']\n",
    "for key in categorical_keys:\n",
    "    results_df, posthoc_df = compute_categorical_association(\n",
    "        mdata, \n",
    "        prog_key=prog_key,\n",
    "        categorical_key=key,\n",
    "        **categorical_assocation_config,\n",
    "    )\n",
    "    results_df.to_csv(os.path.join(path_out, f'{prog_key}_{key}_association_results.txt'), sep='\\t', index=False) \n",
    "    posthoc_df.to_csv(os.path.join(path_out, f'{prog_key}_{key}_association_posthoc.txt'), sep='\\t', index=False)"
   ]
  },
  {
   "cell_type": "markdown",
   "metadata": {},
   "source": [
    "## Run perturbation association"
   ]
  },
  {
   "cell_type": "code",
   "execution_count": 10,
   "metadata": {},
   "outputs": [
    {
     "data": {
      "text/plain": [
       "{'groupby_key': 'sample',\n",
       " 'collapse_targets': True,\n",
       " 'pseudobulk': False,\n",
       " 'reference_targets': ['non-targeting'],\n",
       " 'n_jobs': -1,\n",
       " 'inplace': False}"
      ]
     },
     "execution_count": 10,
     "metadata": {},
     "output_type": "execute_result"
    }
   ],
   "source": [
    "perturbation_assocation_config = config['perturbation_association']\n",
    "perturbation_assocation_config"
   ]
  },
  {
   "cell_type": "code",
   "execution_count": 13,
   "metadata": {},
   "outputs": [
    {
     "ename": "KeyError",
     "evalue": "'groupby_key'",
     "output_type": "error",
     "traceback": [
      "\u001b[0;31m---------------------------------------------------------------------------\u001b[0m",
      "\u001b[0;31mKeyError\u001b[0m                                  Traceback (most recent call last)",
      "Cell \u001b[0;32mIn[13], line 3\u001b[0m\n\u001b[1;32m      1\u001b[0m \u001b[38;5;66;03m# Run perturbation association\u001b[39;00m\n\u001b[1;32m      2\u001b[0m target_type \u001b[38;5;241m=\u001b[39m \u001b[38;5;124m\"\u001b[39m\u001b[38;5;124mgene\u001b[39m\u001b[38;5;124m\"\u001b[39m \u001b[38;5;28;01mif\u001b[39;00m perturbation_assocation_config[\u001b[38;5;124m\"\u001b[39m\u001b[38;5;124mcollapse_targets\u001b[39m\u001b[38;5;124m\"\u001b[39m] \u001b[38;5;28;01melse\u001b[39;00m \u001b[38;5;124m\"\u001b[39m\u001b[38;5;124mguide\u001b[39m\u001b[38;5;124m\"\u001b[39m\n\u001b[0;32m----> 3\u001b[0m \u001b[38;5;28;01mif\u001b[39;00m \u001b[43mperturbation_assocation_config\u001b[49m\u001b[43m[\u001b[49m\u001b[38;5;124;43m\"\u001b[39;49m\u001b[38;5;124;43mgroupby_key\u001b[39;49m\u001b[38;5;124;43m\"\u001b[39;49m\u001b[43m]\u001b[49m \u001b[38;5;129;01mis\u001b[39;00m \u001b[38;5;129;01mnot\u001b[39;00m \u001b[38;5;28;01mNone\u001b[39;00m:\n\u001b[1;32m      4\u001b[0m     logging\u001b[38;5;241m.\u001b[39minfo(\u001b[38;5;124m\"\u001b[39m\u001b[38;5;124mgroupby_key provided, running perturbation association on each group\u001b[39m\u001b[38;5;124m\"\u001b[39m)\n\u001b[1;32m      5\u001b[0m     groupby_key \u001b[38;5;241m=\u001b[39m perturbation_assocation_config\u001b[38;5;241m.\u001b[39mpop(\u001b[38;5;124m\"\u001b[39m\u001b[38;5;124mgroupby_key\u001b[39m\u001b[38;5;124m\"\u001b[39m)\n",
      "\u001b[0;31mKeyError\u001b[0m: 'groupby_key'"
     ]
    }
   ],
   "source": [
    "# Run perturbation association\n",
    "target_type = \"gene\" if perturbation_assocation_config[\"collapse_targets\"] else \"guide\"\n",
    "if perturbation_assocation_config[\"groupby_key\"] is not None:\n",
    "    logging.info(\"groupby_key provided, running perturbation association on each group\")\n",
    "    groupby_key = perturbation_assocation_config.pop(\"groupby_key\")\n",
    "    data_key = io_config[\"data_key\"]\n",
    "    perturbation_assocation_df = pd.DataFrame()\n",
    "    for group in mdata[data_key].obs[groupby_key].unique():\n",
    "        mdata_ = mdata[mdata[data_key].obs[groupby_key] == group]\n",
    "        test_stats_df = compute_perturbation_association(\n",
    "            mdata_, \n",
    "            prog_key=prog_key,\n",
    "           # data_key=data_key,\n",
    "            **perturbation_assocation_config,\n",
    "        )\n",
    "        test_stats_df.to_csv(os.path.join(path_out, f'{prog_key}_{target_type}_{groupby_key}_{group}_perturbation_association.txt'), sep='\\t', index=False)\n",
    "else:\n",
    "    logging.info(\"No groupby_key provided, running perturbation association on full dataset\")\n",
    "    perturbation_assocation_config.pop(\"groupby_key\")\n",
    "    perturbation_assocation_df = compute_perturbation_association(\n",
    "        mdata, \n",
    "        prog_key=prog_key,\n",
    "        data_key=data_key,\n",
    "        **perturbation_assocation_config,\n",
    "    )\n",
    "    perturbation_assocation_df.to_csv(os.path.join(path_out, f'{prog_key}_{target_type}_perturbation_association.txt'), sep='\\t', index=False)"
   ]
  },
  {
   "cell_type": "markdown",
   "metadata": {},
   "source": [
    "## Run gene set enrichment analysis"
   ]
  },
  {
   "cell_type": "code",
   "execution_count": 9,
   "metadata": {},
   "outputs": [
    {
     "name": "stderr",
     "output_type": "stream",
     "text": [
      "INFO:root:Running gene-set enrichment analysis for Reactome_2022\n"
     ]
    },
    {
     "name": "stderr",
     "output_type": "stream",
     "text": [
      "INFO:root:Downloading and generating Enrichr library gene sets...\n",
      "INFO:root:0031 gene_sets have been filtered out when max_size=500 and min_size=5\n",
      "Running Fisher enrichment: 100%|██████████| 300/300 [01:13<00:00,  4.05programs/s]\n",
      "INFO:root:Running gene-set enrichment analysis for GO_Biological_Process_2023\n",
      "INFO:root:Downloading and generating Enrichr library gene sets...\n",
      "INFO:root:0014 gene_sets have been filtered out when max_size=500 and min_size=5\n",
      "Running Fisher enrichment: 100%|██████████| 300/300 [03:19<00:00,  1.51programs/s]\n"
     ]
    }
   ],
   "source": [
    "# Gene-set enrichment\n",
    "gene_set_enrichment_config = config['gene_set_enrichment']\n",
    "libraries = gene_set_enrichment_config.pop('libraries')\n",
    "gene_set_enrichment_df = pd.DataFrame()\n",
    "data_key = io_config['data_key']\n",
    "for library in libraries:\n",
    "    logging.info(f'Running gene-set enrichment analysis for {library}')\n",
    "    pre_res = compute_geneset_enrichment(\n",
    "        mdata, \n",
    "        prog_key=prog_key,\n",
    "        data_key=data_key,\n",
    "        library=library,\n",
    "        **gene_set_enrichment_config,\n",
    "    )\n",
    "\n",
    "    if gene_set_enrichment_config[\"method\"] == \"fisher\":\n",
    "        pre_res = pre_res.rename(columns={\"Term\": \"term\", \"P-value\": \"pval\", \"Adjusted P-value\": \"adj_pval\", \"Odds Ratio\": \"enrichment\", \"Genes\": \"genes\"})\n",
    "    elif gene_set_enrichment_config[\"method\"] == \"gsea\":\n",
    "        pre_res = pre_res.rename(columns={\"Term\": \"term\", \"NOM p-val\": \"pval\", \"FDR q-val\": \"adj_pval\", \"NES\": \"enrichment\", \"Lead_genes\": \"genes\"})\n",
    "    \n",
    "    # Save results\n",
    "    pre_res.to_csv(os.path.join(path_out, f'{prog_key}_{library}_{gene_set_enrichment_config[\"method\"]}_geneset_enrichment.txt'), sep='\\t', index=False)"
   ]
  },
  {
   "cell_type": "markdown",
   "metadata": {},
   "source": [
    "## Run trait enrichment analysis"
   ]
  },
  {
   "cell_type": "code",
   "execution_count": 23,
   "metadata": {},
   "outputs": [
    {
     "name": "stderr",
     "output_type": "stream",
     "text": [
      "Running Fisher enrichment: 100%|██████████| 300/300 [00:35<00:00,  8.53programs/s]\n"
     ]
    }
   ],
   "source": [
    "# Run trait enrichment, process and save results\n",
    "trait_enrichment_config = config['trait_enrichment']\n",
    "pre_res_trait = compute_trait_enrichment(\n",
    "    mdata, \n",
    "    prog_key=prog_key,\n",
    "    data_key=data_key,\n",
    "    gwas_data=trait_enrichment_config['gwas_data'],\n",
    "    prog_nam=trait_enrichment_config['prog_nam'],\n",
    "    library=trait_enrichment_config['library'],\n",
    "    n_jobs=trait_enrichment_config['n_jobs'],\n",
    "    inplace=trait_enrichment_config['inplace'],\n",
    "    key_column=trait_enrichment_config['key_column'],\n",
    "    gene_column=trait_enrichment_config['gene_column'],\n",
    "    method=trait_enrichment_config['method'],\n",
    "    n_top=trait_enrichment_config['n_top'],\n",
    "    low_cutoff=trait_enrichment_config['low_cutoff'],\n",
    "    min_size=trait_enrichment_config['min_size'],\n",
    "    max_size=trait_enrichment_config['max_size'],\n",
    ")\n",
    "if trait_enrichment_config[\"method\"] == \"fisher\":\n",
    "    pre_res_trait = pre_res_trait.rename(columns={\"Term\": \"term\", \"P-value\": \"pval\", \"Adjusted P-value\": \"adj_pval\", \"Odds Ratio\": \"enrichment\", \"Genes\": \"genes\"})\n",
    "elif trait_enrichment_config[\"method\"] == \"gsea\":\n",
    "    pre_res_trait = pre_res_trait.rename(columns={\"Term\": \"term\", \"NOM p-val\": \"pval\", \"FDR q-val\": \"adj_pval\", \"NES\": \"enrichment\", \"Lead_genes\": \"genes\"})\n",
    "data = process_enrichment_data(\n",
    "    enrich_res=pre_res_trait,\n",
    "    metadata=trait_enrichment_config['metadata'],\n",
    "    pval_col=trait_enrichment_config[\"pval_col\"],\n",
    "    enrich_geneset_id_col=trait_enrichment_config[\"enrich_geneset_id_col\"],\n",
    "    metadata_geneset_id_col=trait_enrichment_config[\"metadata_geneset_id_col\"],\n",
    "    color_category_col=trait_enrichment_config[\"color_category_col\"],\n",
    "    program_name_col=trait_enrichment_config[\"program_name_col\"],\n",
    "    annotation_cols=trait_enrichment_config[\"annotation_cols\"],\n",
    ")\n",
    "data.to_csv(os.path.join(path_out, f\"{prog_key}_{trait_enrichment_config['library']}_{trait_enrichment_config['method']}_trait_enrichment.txt\"), sep='\\t', index=False)"
   ]
  },
  {
   "cell_type": "code",
   "execution_count": 24,
   "metadata": {},
   "outputs": [
    {
     "data": {
      "text/html": [
       "<div>\n",
       "<style scoped>\n",
       "    .dataframe tbody tr th:only-of-type {\n",
       "        vertical-align: middle;\n",
       "    }\n",
       "\n",
       "    .dataframe tbody tr th {\n",
       "        vertical-align: top;\n",
       "    }\n",
       "\n",
       "    .dataframe thead th {\n",
       "        text-align: right;\n",
       "    }\n",
       "</style>\n",
       "<table border=\"1\" class=\"dataframe\">\n",
       "  <thead>\n",
       "    <tr style=\"text-align: right;\">\n",
       "      <th></th>\n",
       "      <th>term</th>\n",
       "      <th>adj_pval</th>\n",
       "      <th>trait_efos</th>\n",
       "      <th>trait_category</th>\n",
       "      <th>program_name</th>\n",
       "      <th>enrichment</th>\n",
       "      <th>trait_reported</th>\n",
       "      <th>genes</th>\n",
       "      <th>study_id</th>\n",
       "      <th>pmid</th>\n",
       "      <th>-log10(adj_pval)</th>\n",
       "    </tr>\n",
       "  </thead>\n",
       "  <tbody>\n",
       "    <tr>\n",
       "      <th>0</th>\n",
       "      <td>EFO_0004875</td>\n",
       "      <td>3.705339e-09</td>\n",
       "      <td>EFO_0004875</td>\n",
       "      <td>biological process</td>\n",
       "      <td>46</td>\n",
       "      <td>3.425818</td>\n",
       "      <td>Highest math class taken (MTAG) [MTAG]</td>\n",
       "      <td>PLCL2;TCF7L2;KLHL32;DIO3;RGS6;OSBPL3;EFNA5;B3G...</td>\n",
       "      <td>GCST006568</td>\n",
       "      <td>PMID:30038396</td>\n",
       "      <td>8.431172</td>\n",
       "    </tr>\n",
       "    <tr>\n",
       "      <th>1</th>\n",
       "      <td>EFO_0004875</td>\n",
       "      <td>5.903075e-09</td>\n",
       "      <td>EFO_0004875</td>\n",
       "      <td>biological process</td>\n",
       "      <td>9</td>\n",
       "      <td>2.932631</td>\n",
       "      <td>Highest math class taken (MTAG) [MTAG]</td>\n",
       "      <td>GABRG3;RANBP17;FOXP1;TCF7L2;SLC22A23;PLCB1;BRI...</td>\n",
       "      <td>GCST006568</td>\n",
       "      <td>PMID:30038396</td>\n",
       "      <td>8.228922</td>\n",
       "    </tr>\n",
       "    <tr>\n",
       "      <th>2</th>\n",
       "      <td>EFO_0004875</td>\n",
       "      <td>1.291972e-08</td>\n",
       "      <td>EFO_0004875</td>\n",
       "      <td>biological process</td>\n",
       "      <td>38</td>\n",
       "      <td>2.848790</td>\n",
       "      <td>Highest math class taken (MTAG) [MTAG]</td>\n",
       "      <td>FOXP1;TCF7L2;EFNA5;LSAMP;PLXDC2;ST6GAL2;TENM4;...</td>\n",
       "      <td>GCST006568</td>\n",
       "      <td>PMID:30038396</td>\n",
       "      <td>7.888747</td>\n",
       "    </tr>\n",
       "    <tr>\n",
       "      <th>3</th>\n",
       "      <td>EFO_0004875</td>\n",
       "      <td>4.786142e-08</td>\n",
       "      <td>EFO_0004875</td>\n",
       "      <td>biological process</td>\n",
       "      <td>54</td>\n",
       "      <td>3.018249</td>\n",
       "      <td>Highest math class taken (MTAG) [MTAG]</td>\n",
       "      <td>DIO3;LSAMP;B3GLCT;PLXDC2;NALF1;DLG2;TENM4;ST6G...</td>\n",
       "      <td>GCST006568</td>\n",
       "      <td>PMID:30038396</td>\n",
       "      <td>7.320014</td>\n",
       "    </tr>\n",
       "    <tr>\n",
       "      <th>4</th>\n",
       "      <td>EFO_0004875</td>\n",
       "      <td>7.314192e-08</td>\n",
       "      <td>EFO_0004875</td>\n",
       "      <td>biological process</td>\n",
       "      <td>129</td>\n",
       "      <td>3.490062</td>\n",
       "      <td>Highest math class taken (MTAG) [MTAG]</td>\n",
       "      <td>RANBP17;FOXP1;KLHL32;DIO3;LSAMP;B3GLCT;MITF;PR...</td>\n",
       "      <td>GCST006568</td>\n",
       "      <td>PMID:30038396</td>\n",
       "      <td>7.135834</td>\n",
       "    </tr>\n",
       "    <tr>\n",
       "      <th>...</th>\n",
       "      <td>...</td>\n",
       "      <td>...</td>\n",
       "      <td>...</td>\n",
       "      <td>...</td>\n",
       "      <td>...</td>\n",
       "      <td>...</td>\n",
       "      <td>...</td>\n",
       "      <td>...</td>\n",
       "      <td>...</td>\n",
       "      <td>...</td>\n",
       "      <td>...</td>\n",
       "    </tr>\n",
       "    <tr>\n",
       "      <th>135886</th>\n",
       "      <td>EFO_0002690</td>\n",
       "      <td>9.593476e-01</td>\n",
       "      <td>EFO_0002690</td>\n",
       "      <td>urinary system disease</td>\n",
       "      <td>34</td>\n",
       "      <td>0.489532</td>\n",
       "      <td>Systemic lupus erythematosus</td>\n",
       "      <td>ELF1</td>\n",
       "      <td>GCST011956</td>\n",
       "      <td>PMID:33272962</td>\n",
       "      <td>0.018024</td>\n",
       "    </tr>\n",
       "    <tr>\n",
       "      <th>135887</th>\n",
       "      <td>EFO_0002690</td>\n",
       "      <td>9.654614e-01</td>\n",
       "      <td>EFO_0002690</td>\n",
       "      <td>urinary system disease</td>\n",
       "      <td>27</td>\n",
       "      <td>0.461551</td>\n",
       "      <td>Systemic lupus erythematosus</td>\n",
       "      <td>ACAP1</td>\n",
       "      <td>GCST011956</td>\n",
       "      <td>PMID:33272962</td>\n",
       "      <td>0.015265</td>\n",
       "    </tr>\n",
       "    <tr>\n",
       "      <th>135888</th>\n",
       "      <td>EFO_0002690</td>\n",
       "      <td>9.662828e-01</td>\n",
       "      <td>EFO_0002690</td>\n",
       "      <td>urinary system disease</td>\n",
       "      <td>3</td>\n",
       "      <td>0.478854</td>\n",
       "      <td>Systemic lupus erythematosus</td>\n",
       "      <td>DSE</td>\n",
       "      <td>GCST011956</td>\n",
       "      <td>PMID:33272962</td>\n",
       "      <td>0.014896</td>\n",
       "    </tr>\n",
       "    <tr>\n",
       "      <th>135889</th>\n",
       "      <td>EFO_0002690</td>\n",
       "      <td>9.753537e-01</td>\n",
       "      <td>EFO_0002690</td>\n",
       "      <td>urinary system disease</td>\n",
       "      <td>11</td>\n",
       "      <td>0.433982</td>\n",
       "      <td>Systemic lupus erythematosus</td>\n",
       "      <td>SYNGR1</td>\n",
       "      <td>GCST011956</td>\n",
       "      <td>PMID:33272962</td>\n",
       "      <td>0.010838</td>\n",
       "    </tr>\n",
       "    <tr>\n",
       "      <th>135890</th>\n",
       "      <td>EFO_0002690</td>\n",
       "      <td>9.837012e-01</td>\n",
       "      <td>EFO_0002690</td>\n",
       "      <td>urinary system disease</td>\n",
       "      <td>9</td>\n",
       "      <td>0.468613</td>\n",
       "      <td>Systemic lupus erythematosus</td>\n",
       "      <td>DSE</td>\n",
       "      <td>GCST011956</td>\n",
       "      <td>PMID:33272962</td>\n",
       "      <td>0.007137</td>\n",
       "    </tr>\n",
       "  </tbody>\n",
       "</table>\n",
       "<p>135891 rows × 11 columns</p>\n",
       "</div>"
      ],
      "text/plain": [
       "               term      adj_pval   trait_efos          trait_category  \\\n",
       "0       EFO_0004875  3.705339e-09  EFO_0004875      biological process   \n",
       "1       EFO_0004875  5.903075e-09  EFO_0004875      biological process   \n",
       "2       EFO_0004875  1.291972e-08  EFO_0004875      biological process   \n",
       "3       EFO_0004875  4.786142e-08  EFO_0004875      biological process   \n",
       "4       EFO_0004875  7.314192e-08  EFO_0004875      biological process   \n",
       "...             ...           ...          ...                     ...   \n",
       "135886  EFO_0002690  9.593476e-01  EFO_0002690  urinary system disease   \n",
       "135887  EFO_0002690  9.654614e-01  EFO_0002690  urinary system disease   \n",
       "135888  EFO_0002690  9.662828e-01  EFO_0002690  urinary system disease   \n",
       "135889  EFO_0002690  9.753537e-01  EFO_0002690  urinary system disease   \n",
       "135890  EFO_0002690  9.837012e-01  EFO_0002690  urinary system disease   \n",
       "\n",
       "       program_name  enrichment                          trait_reported  \\\n",
       "0                46    3.425818  Highest math class taken (MTAG) [MTAG]   \n",
       "1                 9    2.932631  Highest math class taken (MTAG) [MTAG]   \n",
       "2                38    2.848790  Highest math class taken (MTAG) [MTAG]   \n",
       "3                54    3.018249  Highest math class taken (MTAG) [MTAG]   \n",
       "4               129    3.490062  Highest math class taken (MTAG) [MTAG]   \n",
       "...             ...         ...                                     ...   \n",
       "135886           34    0.489532            Systemic lupus erythematosus   \n",
       "135887           27    0.461551            Systemic lupus erythematosus   \n",
       "135888            3    0.478854            Systemic lupus erythematosus   \n",
       "135889           11    0.433982            Systemic lupus erythematosus   \n",
       "135890            9    0.468613            Systemic lupus erythematosus   \n",
       "\n",
       "                                                    genes    study_id  \\\n",
       "0       PLCL2;TCF7L2;KLHL32;DIO3;RGS6;OSBPL3;EFNA5;B3G...  GCST006568   \n",
       "1       GABRG3;RANBP17;FOXP1;TCF7L2;SLC22A23;PLCB1;BRI...  GCST006568   \n",
       "2       FOXP1;TCF7L2;EFNA5;LSAMP;PLXDC2;ST6GAL2;TENM4;...  GCST006568   \n",
       "3       DIO3;LSAMP;B3GLCT;PLXDC2;NALF1;DLG2;TENM4;ST6G...  GCST006568   \n",
       "4       RANBP17;FOXP1;KLHL32;DIO3;LSAMP;B3GLCT;MITF;PR...  GCST006568   \n",
       "...                                                   ...         ...   \n",
       "135886                                               ELF1  GCST011956   \n",
       "135887                                              ACAP1  GCST011956   \n",
       "135888                                                DSE  GCST011956   \n",
       "135889                                             SYNGR1  GCST011956   \n",
       "135890                                                DSE  GCST011956   \n",
       "\n",
       "                 pmid  -log10(adj_pval)  \n",
       "0       PMID:30038396          8.431172  \n",
       "1       PMID:30038396          8.228922  \n",
       "2       PMID:30038396          7.888747  \n",
       "3       PMID:30038396          7.320014  \n",
       "4       PMID:30038396          7.135834  \n",
       "...               ...               ...  \n",
       "135886  PMID:33272962          0.018024  \n",
       "135887  PMID:33272962          0.015265  \n",
       "135888  PMID:33272962          0.014896  \n",
       "135889  PMID:33272962          0.010838  \n",
       "135890  PMID:33272962          0.007137  \n",
       "\n",
       "[135891 rows x 11 columns]"
      ]
     },
     "execution_count": 24,
     "metadata": {},
     "output_type": "execute_result"
    }
   ],
   "source": [
    "data"
   ]
  },
  {
   "cell_type": "code",
   "execution_count": 25,
   "metadata": {},
   "outputs": [
    {
     "data": {
      "text/html": [
       "<div>\n",
       "<style scoped>\n",
       "    .dataframe tbody tr th:only-of-type {\n",
       "        vertical-align: middle;\n",
       "    }\n",
       "\n",
       "    .dataframe tbody tr th {\n",
       "        vertical-align: top;\n",
       "    }\n",
       "\n",
       "    .dataframe thead th {\n",
       "        text-align: right;\n",
       "    }\n",
       "</style>\n",
       "<table border=\"1\" class=\"dataframe\">\n",
       "  <thead>\n",
       "    <tr style=\"text-align: right;\">\n",
       "      <th></th>\n",
       "      <th>program_name</th>\n",
       "      <th>term</th>\n",
       "      <th>pval</th>\n",
       "      <th>adj_pval</th>\n",
       "      <th>enrichment</th>\n",
       "      <th>Combined Score</th>\n",
       "      <th>genes</th>\n",
       "      <th>overlap_numerator</th>\n",
       "      <th>overlap_denominator</th>\n",
       "    </tr>\n",
       "  </thead>\n",
       "  <tbody>\n",
       "    <tr>\n",
       "      <th>113</th>\n",
       "      <td>0</td>\n",
       "      <td>EFO_0004464</td>\n",
       "      <td>4.034797e-09</td>\n",
       "      <td>8.553769e-07</td>\n",
       "      <td>2.642369</td>\n",
       "      <td>51.072519</td>\n",
       "      <td>PIP4K2A;ARHGAP31;CRMP1;KAZN;LRP8;TRIM24;TTC28;...</td>\n",
       "      <td>58</td>\n",
       "      <td>593</td>\n",
       "    </tr>\n",
       "    <tr>\n",
       "      <th>542</th>\n",
       "      <td>1</td>\n",
       "      <td>EFO_0004464</td>\n",
       "      <td>9.175403e-09</td>\n",
       "      <td>3.706863e-06</td>\n",
       "      <td>2.620551</td>\n",
       "      <td>48.497851</td>\n",
       "      <td>ARHGAP31;CRMP1;TCF7L2;TTC28;MAPRE2;F2R;EZR;ERG...</td>\n",
       "      <td>56</td>\n",
       "      <td>593</td>\n",
       "    </tr>\n",
       "    <tr>\n",
       "      <th>4084</th>\n",
       "      <td>10</td>\n",
       "      <td>EFO_0004464</td>\n",
       "      <td>1.596419e-04</td>\n",
       "      <td>5.220290e-02</td>\n",
       "      <td>2.113795</td>\n",
       "      <td>18.480019</td>\n",
       "      <td>PIK3CD;CRMP1;KDM2B;LRP8;STAT1;MAPRE2;F2R;EZR;I...</td>\n",
       "      <td>36</td>\n",
       "      <td>593</td>\n",
       "    </tr>\n",
       "    <tr>\n",
       "      <th>40376</th>\n",
       "      <td>100</td>\n",
       "      <td>EFO_0004464</td>\n",
       "      <td>5.899149e-06</td>\n",
       "      <td>4.058614e-04</td>\n",
       "      <td>2.576462</td>\n",
       "      <td>31.022418</td>\n",
       "      <td>KAZN;THSD4;DIO3;FBXO16;TTC28;EFNA5;B3GLCT;VEPH...</td>\n",
       "      <td>35</td>\n",
       "      <td>593</td>\n",
       "    </tr>\n",
       "    <tr>\n",
       "      <th>40727</th>\n",
       "      <td>101</td>\n",
       "      <td>EFO_0004464</td>\n",
       "      <td>4.010141e-04</td>\n",
       "      <td>2.045172e-02</td>\n",
       "      <td>2.154842</td>\n",
       "      <td>16.854129</td>\n",
       "      <td>KAZN;THSD4;DIO3;FBXO16;EFNA5;B3GLCT;VEPH1;THBS...</td>\n",
       "      <td>30</td>\n",
       "      <td>593</td>\n",
       "    </tr>\n",
       "    <tr>\n",
       "      <th>...</th>\n",
       "      <td>...</td>\n",
       "      <td>...</td>\n",
       "      <td>...</td>\n",
       "      <td>...</td>\n",
       "      <td>...</td>\n",
       "      <td>...</td>\n",
       "      <td>...</td>\n",
       "      <td>...</td>\n",
       "      <td>...</td>\n",
       "    </tr>\n",
       "    <tr>\n",
       "      <th>38466</th>\n",
       "      <td>95</td>\n",
       "      <td>EFO_0004464</td>\n",
       "      <td>8.904229e-10</td>\n",
       "      <td>3.437032e-07</td>\n",
       "      <td>3.209381</td>\n",
       "      <td>66.881343</td>\n",
       "      <td>KAZN;THSD4;DIO3;FBXO16;TTC28;B3GLCT;F2R;FBXL7;...</td>\n",
       "      <td>46</td>\n",
       "      <td>593</td>\n",
       "    </tr>\n",
       "    <tr>\n",
       "      <th>38848</th>\n",
       "      <td>96</td>\n",
       "      <td>EFO_0004464</td>\n",
       "      <td>2.911182e-05</td>\n",
       "      <td>2.171741e-03</td>\n",
       "      <td>2.328892</td>\n",
       "      <td>24.323799</td>\n",
       "      <td>KAZN;TCF7L2;THSD4;DIO3;FBXO16;B3GLCT;VEPH1;EZR...</td>\n",
       "      <td>36</td>\n",
       "      <td>593</td>\n",
       "    </tr>\n",
       "    <tr>\n",
       "      <th>39220</th>\n",
       "      <td>97</td>\n",
       "      <td>EFO_0004464</td>\n",
       "      <td>3.156789e-05</td>\n",
       "      <td>2.329710e-03</td>\n",
       "      <td>2.383982</td>\n",
       "      <td>24.706090</td>\n",
       "      <td>KAZN;TCF7L2;THSD4;DIO3;FBXO16;EFNA5;B3GLCT;VEP...</td>\n",
       "      <td>34</td>\n",
       "      <td>593</td>\n",
       "    </tr>\n",
       "    <tr>\n",
       "      <th>39599</th>\n",
       "      <td>98</td>\n",
       "      <td>EFO_0004464</td>\n",
       "      <td>9.463288e-10</td>\n",
       "      <td>3.851558e-07</td>\n",
       "      <td>3.029426</td>\n",
       "      <td>62.946712</td>\n",
       "      <td>KAZN;THSD4;DIO3;GRIP1;NRCAM;TTC28;B3GLCT;SLC13...</td>\n",
       "      <td>50</td>\n",
       "      <td>593</td>\n",
       "    </tr>\n",
       "    <tr>\n",
       "      <th>40002</th>\n",
       "      <td>99</td>\n",
       "      <td>EFO_0004464</td>\n",
       "      <td>2.617547e-05</td>\n",
       "      <td>2.036451e-03</td>\n",
       "      <td>2.375044</td>\n",
       "      <td>25.058344</td>\n",
       "      <td>FOXP1;KAZN;TCF7L2;THSD4;DIO3;FBXO16;B3GLCT;VEP...</td>\n",
       "      <td>35</td>\n",
       "      <td>593</td>\n",
       "    </tr>\n",
       "  </tbody>\n",
       "</table>\n",
       "<p>300 rows × 9 columns</p>\n",
       "</div>"
      ],
      "text/plain": [
       "      program_name         term          pval      adj_pval  enrichment  \\\n",
       "113              0  EFO_0004464  4.034797e-09  8.553769e-07    2.642369   \n",
       "542              1  EFO_0004464  9.175403e-09  3.706863e-06    2.620551   \n",
       "4084            10  EFO_0004464  1.596419e-04  5.220290e-02    2.113795   \n",
       "40376          100  EFO_0004464  5.899149e-06  4.058614e-04    2.576462   \n",
       "40727          101  EFO_0004464  4.010141e-04  2.045172e-02    2.154842   \n",
       "...            ...          ...           ...           ...         ...   \n",
       "38466           95  EFO_0004464  8.904229e-10  3.437032e-07    3.209381   \n",
       "38848           96  EFO_0004464  2.911182e-05  2.171741e-03    2.328892   \n",
       "39220           97  EFO_0004464  3.156789e-05  2.329710e-03    2.383982   \n",
       "39599           98  EFO_0004464  9.463288e-10  3.851558e-07    3.029426   \n",
       "40002           99  EFO_0004464  2.617547e-05  2.036451e-03    2.375044   \n",
       "\n",
       "       Combined Score                                              genes  \\\n",
       "113         51.072519  PIP4K2A;ARHGAP31;CRMP1;KAZN;LRP8;TRIM24;TTC28;...   \n",
       "542         48.497851  ARHGAP31;CRMP1;TCF7L2;TTC28;MAPRE2;F2R;EZR;ERG...   \n",
       "4084        18.480019  PIK3CD;CRMP1;KDM2B;LRP8;STAT1;MAPRE2;F2R;EZR;I...   \n",
       "40376       31.022418  KAZN;THSD4;DIO3;FBXO16;TTC28;EFNA5;B3GLCT;VEPH...   \n",
       "40727       16.854129  KAZN;THSD4;DIO3;FBXO16;EFNA5;B3GLCT;VEPH1;THBS...   \n",
       "...               ...                                                ...   \n",
       "38466       66.881343  KAZN;THSD4;DIO3;FBXO16;TTC28;B3GLCT;F2R;FBXL7;...   \n",
       "38848       24.323799  KAZN;TCF7L2;THSD4;DIO3;FBXO16;B3GLCT;VEPH1;EZR...   \n",
       "39220       24.706090  KAZN;TCF7L2;THSD4;DIO3;FBXO16;EFNA5;B3GLCT;VEP...   \n",
       "39599       62.946712  KAZN;THSD4;DIO3;GRIP1;NRCAM;TTC28;B3GLCT;SLC13...   \n",
       "40002       25.058344  FOXP1;KAZN;TCF7L2;THSD4;DIO3;FBXO16;B3GLCT;VEP...   \n",
       "\n",
       "       overlap_numerator  overlap_denominator  \n",
       "113                   58                  593  \n",
       "542                   56                  593  \n",
       "4084                  36                  593  \n",
       "40376                 35                  593  \n",
       "40727                 30                  593  \n",
       "...                  ...                  ...  \n",
       "38466                 46                  593  \n",
       "38848                 36                  593  \n",
       "39220                 34                  593  \n",
       "39599                 50                  593  \n",
       "40002                 35                  593  \n",
       "\n",
       "[300 rows x 9 columns]"
      ]
     },
     "execution_count": 25,
     "metadata": {},
     "output_type": "execute_result"
    }
   ],
   "source": [
    "pre_res_trait[pre_res_trait[\"term\"] == \"EFO_0004464\"]"
   ]
  },
  {
   "cell_type": "markdown",
   "metadata": {},
   "source": [
    "## Run motif enrichment analysis"
   ]
  },
  {
   "cell_type": "code",
   "execution_count": 13,
   "metadata": {},
   "outputs": [
    {
     "data": {
      "text/plain": [
       "{'motif_file': '/cellar/users/aklie/opt/gene_program_evaluation/src/tests/test_data/motifs.meme',\n",
       " 'seq_file': '/cellar/users/aklie/data/ref/genomes/hg38/hg38.fa',\n",
       " 'loci_files': ['/cellar/users/aklie/opt/gene_program_evaluation/examples/datasets/iPSC_EC/EnhancerPredictions_D0_2024_09_07.txt',\n",
       "  '/cellar/users/aklie/opt/gene_program_evaluation/examples/datasets/iPSC_EC/EnhancerPredictions_sample_D1_2024_09_07.txt',\n",
       "  '/cellar/users/aklie/opt/gene_program_evaluation/examples/datasets/iPSC_EC/EnhancerPredictions_sample_D2_2024_09_07.txt',\n",
       "  '/cellar/users/aklie/opt/gene_program_evaluation/examples/datasets/iPSC_EC/EnhancerPredictions_sample_D3_2024_09_07.txt'],\n",
       " 'names': ['D0', 'sample_D1', 'sample_D2', 'sample_D3'],\n",
       " 'output_loc': None,\n",
       " 'window': 1000,\n",
       " 'threshold': 0.001,\n",
       " 'eps': 0.001,\n",
       " 'reverse_complement': True,\n",
       " 'sig': 0.05,\n",
       " 'num_genes': None,\n",
       " 'correlation': 'pearsonr',\n",
       " 'n_jobs': -1,\n",
       " 'inplace': False}"
      ]
     },
     "execution_count": 13,
     "metadata": {},
     "output_type": "execute_result"
    }
   ],
   "source": [
    "motif_enrichment_config = config['motif_enrichment']\n",
    "motif_enrichment_config"
   ]
  },
  {
   "cell_type": "code",
   "execution_count": 14,
   "metadata": {},
   "outputs": [
    {
     "name": "stderr",
     "output_type": "stream",
     "text": [
      "INFO:root:Running motif enrichment analysis for /cellar/users/aklie/opt/gene_program_evaluation/examples/datasets/iPSC_EC/EnhancerPredictions_D0_2024_09_07.txt\n"
     ]
    },
    {
     "name": "stderr",
     "output_type": "stream",
     "text": [
      "/cellar/users/aklie/opt/miniconda3/envs/test_celloracle/lib/python3.10/site-packages/anndata/_core/anndata.py:1899: UserWarning: Variable names are not unique. To make them unique, call `.var_names_make_unique`.\n",
      "  utils.warn_names_duplicates(\"var\")\n",
      "/cellar/users/aklie/opt/miniconda3/envs/test_celloracle/lib/python3.10/site-packages/mudata/_core/mudata.py:479: UserWarning: var_names are not unique. To make them unique, call `.var_names_make_unique`.\n",
      "  warnings.warn(\n"
     ]
    },
    {
     "name": "stdout",
     "output_type": "stream",
     "text": [
      "Number of matching genes: 4420\n",
      "Number of loci: 15692\n",
      "There are 54366 significant motif matches.\n"
     ]
    },
    {
     "data": {
      "application/vnd.jupyter.widget-view+json": {
       "model_id": "b8b9a59d4ed14de196617190ec76f810",
       "version_major": 2,
       "version_minor": 0
      },
      "text/plain": [
       "Computing motif enrichment:   0%|          | 0/8 [00:00<?, ?motifs/s]"
      ]
     },
     "metadata": {},
     "output_type": "display_data"
    },
    {
     "name": "stderr",
     "output_type": "stream",
     "text": [
      "INFO:root:Running motif enrichment analysis for /cellar/users/aklie/opt/gene_program_evaluation/examples/datasets/iPSC_EC/EnhancerPredictions_sample_D1_2024_09_07.txt\n",
      "/cellar/users/aklie/opt/miniconda3/envs/test_celloracle/lib/python3.10/site-packages/anndata/_core/anndata.py:1899: UserWarning: Variable names are not unique. To make them unique, call `.var_names_make_unique`.\n",
      "  utils.warn_names_duplicates(\"var\")\n",
      "/cellar/users/aklie/opt/miniconda3/envs/test_celloracle/lib/python3.10/site-packages/mudata/_core/mudata.py:479: UserWarning: var_names are not unique. To make them unique, call `.var_names_make_unique`.\n",
      "  warnings.warn(\n"
     ]
    },
    {
     "name": "stdout",
     "output_type": "stream",
     "text": [
      "Number of matching genes: 4420\n",
      "Number of loci: 15997\n",
      "There are 49357 significant motif matches.\n"
     ]
    },
    {
     "data": {
      "application/vnd.jupyter.widget-view+json": {
       "model_id": "903f85bbc78b49eeb332e7ba4a71c28f",
       "version_major": 2,
       "version_minor": 0
      },
      "text/plain": [
       "Computing motif enrichment:   0%|          | 0/8 [00:00<?, ?motifs/s]"
      ]
     },
     "metadata": {},
     "output_type": "display_data"
    },
    {
     "name": "stderr",
     "output_type": "stream",
     "text": [
      "INFO:root:Running motif enrichment analysis for /cellar/users/aklie/opt/gene_program_evaluation/examples/datasets/iPSC_EC/EnhancerPredictions_sample_D2_2024_09_07.txt\n",
      "/cellar/users/aklie/opt/miniconda3/envs/test_celloracle/lib/python3.10/site-packages/anndata/_core/anndata.py:1899: UserWarning: Variable names are not unique. To make them unique, call `.var_names_make_unique`.\n",
      "  utils.warn_names_duplicates(\"var\")\n",
      "/cellar/users/aklie/opt/miniconda3/envs/test_celloracle/lib/python3.10/site-packages/mudata/_core/mudata.py:479: UserWarning: var_names are not unique. To make them unique, call `.var_names_make_unique`.\n",
      "  warnings.warn(\n"
     ]
    },
    {
     "name": "stdout",
     "output_type": "stream",
     "text": [
      "Number of matching genes: 4420\n",
      "Number of loci: 16164\n",
      "There are 53283 significant motif matches.\n"
     ]
    },
    {
     "data": {
      "application/vnd.jupyter.widget-view+json": {
       "model_id": "4e3ab1673c2d4f35bdfdda030fd88d71",
       "version_major": 2,
       "version_minor": 0
      },
      "text/plain": [
       "Computing motif enrichment:   0%|          | 0/8 [00:00<?, ?motifs/s]"
      ]
     },
     "metadata": {},
     "output_type": "display_data"
    },
    {
     "name": "stderr",
     "output_type": "stream",
     "text": [
      "INFO:root:Running motif enrichment analysis for /cellar/users/aklie/opt/gene_program_evaluation/examples/datasets/iPSC_EC/EnhancerPredictions_sample_D3_2024_09_07.txt\n",
      "/cellar/users/aklie/opt/miniconda3/envs/test_celloracle/lib/python3.10/site-packages/anndata/_core/anndata.py:1899: UserWarning: Variable names are not unique. To make them unique, call `.var_names_make_unique`.\n",
      "  utils.warn_names_duplicates(\"var\")\n",
      "/cellar/users/aklie/opt/miniconda3/envs/test_celloracle/lib/python3.10/site-packages/mudata/_core/mudata.py:479: UserWarning: var_names are not unique. To make them unique, call `.var_names_make_unique`.\n",
      "  warnings.warn(\n"
     ]
    },
    {
     "name": "stdout",
     "output_type": "stream",
     "text": [
      "Number of matching genes: 4420\n",
      "Number of loci: 16263\n",
      "There are 50764 significant motif matches.\n"
     ]
    },
    {
     "data": {
      "application/vnd.jupyter.widget-view+json": {
       "model_id": "528d9e8d7219482a942345f842d2a9de",
       "version_major": 2,
       "version_minor": 0
      },
      "text/plain": [
       "Computing motif enrichment:   0%|          | 0/8 [00:00<?, ?motifs/s]"
      ]
     },
     "metadata": {},
     "output_type": "display_data"
    }
   ],
   "source": [
    "# Run motif enrichment and save results\n",
    "loci_files = motif_enrichment_config['loci_files']\n",
    "names = motif_enrichment_config['names']\n",
    "for loci_file, name in zip(loci_files, names):\n",
    "    logging.info(f'Running motif enrichment analysis for {loci_file}')\n",
    "    motif_match_df, motif_count_df, motif_enrichment_df = compute_motif_enrichment(\n",
    "        mdata, \n",
    "        prog_key=prog_key,\n",
    "        data_key=data_key,\n",
    "        loci_file=loci_file,\n",
    "        **motif_enrichment_config,\n",
    "    )\n",
    "    motif_match_df.to_csv(os.path.join(path_out, f'{prog_key}_enhancer_test_{motif_enrichment_config[\"correlation\"]}_sample_{name}_motif_match.txt'), sep='\\t', index=False)\n",
    "    motif_count_df.to_csv(os.path.join(path_out, f'{prog_key}_enhancer_test_{motif_enrichment_config[\"correlation\"]}_sample_{name}_motif_count.txt'), sep='\\t', index=False)\n",
    "    motif_enrichment_df.to_csv(os.path.join(path_out, f'{prog_key}_enhancer_test_{motif_enrichment_config[\"correlation\"]}_sample_{name}_motif_enrichment.txt'), sep='\\t', index=False)"
   ]
  },
  {
   "cell_type": "markdown",
   "metadata": {},
   "source": [
    "## Run explained variance"
   ]
  },
  {
   "cell_type": "code",
   "execution_count": 30,
   "metadata": {},
   "outputs": [
    {
     "name": "stderr",
     "output_type": "stream",
     "text": [
      "Computing explained variance: 100%|██████████| 50/50 [14:40<00:00, 17.61s/programs]\n"
     ]
    }
   ],
   "source": [
    "# Run explained variance\n",
    "explained_variance_config = config['explained_variance']\n",
    "explained_variance_ratio = compute_explained_variance_ratio(\n",
    "    mdata, \n",
    "    prog_key=prog_key,\n",
    "    data_key=data_key,\n",
    "    **explained_variance_config,\n",
    ")\n",
    "explained_variance_ratio.index = mdata.mod[prog_key].var.index\n",
    "explained_variance_ratio.index.name = 'program_name'\n",
    "explained_variance_ratio.columns = [\"variance_explained_ratio\"]\n",
    "explained_variance_ratio.to_csv(os.path.join(path_out, f'{prog_key}_variance_explained_ratio.txt'), sep='\\t', index=True)"
   ]
  },
  {
   "cell_type": "markdown",
   "metadata": {},
   "source": [
    "## Software versions"
   ]
  },
  {
   "cell_type": "code",
   "execution_count": 17,
   "metadata": {},
   "outputs": [],
   "source": [
    "# Save software versions\n",
    "import joblib\n",
    "import numpy as np\n",
    "import scipy\n",
    "import sklearn\n",
    "import statsmodels\n",
    "import scikit_posthocs as posthocs\n",
    "import gseapy\n",
    "import tangermeme\n",
    "\n",
    "versions = {\n",
    "    \"evaluation_pipeline_versions\": {\n",
    "        'gene_program_evaluation': '0.0.1',\n",
    "        'numpy': np.__version__,\n",
    "        'pandas': pd.__version__,\n",
    "        'mudata': mudata.__version__,\n",
    "        'scipy': scipy.__version__,\n",
    "        'scikit-learn': sklearn.__version__,\n",
    "        'scikit-posthocs': posthocs.__version__,\n",
    "        'statsmodels': statsmodels.__version__,\n",
    "        'gseapy': gseapy.__version__,  # gene set enrichment analysis\n",
    "        'tangermeme': tangermeme.__version__,  # motif enrichment analysis\n",
    "    }\n",
    "}\n",
    "\n",
    "with open(os.path.join(path_out, 'software_versions.yml'), 'w') as f:\n",
    "    yaml.dump(versions, f)"
   ]
  },
  {
   "cell_type": "markdown",
   "metadata": {},
   "source": [
    "# DONE!"
   ]
  },
  {
   "cell_type": "markdown",
   "metadata": {},
   "source": [
    "---"
   ]
  }
 ],
 "metadata": {
  "kernelspec": {
   "display_name": "NMF_Benchmarking",
   "language": "python",
   "name": "python3"
  },
  "language_info": {
   "codemirror_mode": {
    "name": "ipython",
    "version": 3
   },
   "file_extension": ".py",
   "mimetype": "text/x-python",
   "name": "python",
   "nbconvert_exporter": "python",
   "pygments_lexer": "ipython3",
   "version": "3.9.0"
  },
  "orig_nbformat": 4
 },
 "nbformat": 4,
 "nbformat_minor": 2
}
