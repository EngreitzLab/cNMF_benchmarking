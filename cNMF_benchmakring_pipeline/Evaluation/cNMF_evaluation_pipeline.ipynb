{
 "cells": [
  {
   "cell_type": "markdown",
   "metadata": {},
   "source": [
    "# Set-up"
   ]
  },
  {
   "cell_type": "code",
   "execution_count": null,
   "metadata": {},
   "outputs": [],
   "source": [
    "import os\n",
    "import sys\n",
    "import yaml\n",
    "import logging\n",
    "import mudata\n",
    "import pandas as pd\n",
    "\n",
    "# Change path to wherever you have repo locally\n",
    "sys.path.append('/oak/stanford/groups/engreitz/Users/ymo/Tools/test/gene_network_evaluation')\n",
    "\n",
    "from src.evaluation import (\n",
    "    compute_categorical_association,\n",
    "    compute_geneset_enrichment,\n",
    "    compute_trait_enrichment,\n",
    "    compute_perturbation_association,\n",
    "    compute_explained_variance_ratio,\n",
    "    compute_motif_enrichment\n",
    ")\n",
    "from src.evaluation.enrichment_trait import process_enrichment_data"
   ]
  },
  {
   "cell_type": "markdown",
   "metadata": {},
   "source": [
    "# categorical association, geneset enrichment, GO term enrichment, trait enrichment"
   ]
  },
  {
   "cell_type": "code",
   "execution_count": null,
   "metadata": {},
   "outputs": [],
   "source": [
    "folder = \"oak/stanford/groups/engreitz/Users/ymo/NMF_re-inplementing/Results/torch-cNMF_evaluation/100k_cells_10iter_torch_mu_batch\"\n",
    "\n",
    "for k in [30, 60, 80, 100, 200, 250, 300]: # 400\n",
    "\n",
    "    os.makedirs(f\"{folder}/Eval/{k}\", exist_ok=True)\n",
    "\n",
    "    # Load mdata\n",
    "    mdata = mudata.read('/oak/stanford/groups/engreitz/Users/ymo/NMF_re-inplementing/Results/torch-cNMF_evaluation/100k_cells_10iter_torch_mu_batch/adata/cNMF_{}_2_0.h5mu'.format(k))\n",
    "\n",
    "    # Run categorical assocation\n",
    "    results_df, posthoc_df = compute_categorical_association(mdata, prog_key='cNMF', categorical_key='sample', \n",
    "                                                            pseudobulk_key=None, test='dunn', n_jobs=-1, inplace=False)\n",
    "\n",
    "    results_df.to_csv('{}/{}_categorical_association_results.txt'.format(folder,k), sep='\\t', index=False) # This was made wide form to insert into .var of the program anndata.\n",
    "    posthoc_df.to_csv('{}/{}_categorical_association_posthoc.txt'.format(folder,k), sep='\\t', index=False)\n",
    "\n",
    "    '''\n",
    "    # Run perturbation assocation\n",
    "    for samp in mdata['rna'].obs['sample'].unique():\n",
    "        mdata_ = mdata[mdata['rna'].obs['sample']==samp]\n",
    "        test_stats_df = compute_perturbation_association(mdata_, prog_key='cNMF', \n",
    "                                                        collapse_targets=True,\n",
    "                                                        pseudobulk=False,\n",
    "                                                        reference_targets=('non-targeting'),\n",
    "                                                        n_jobs=-1, inplace=False)\n",
    "\n",
    "        test_stats_df.to_csv('{}/{}_perturbation_association_results_{}.txt'.format(folder,k,samp), sep='\\t', index=False)\n",
    "    '''\n",
    "\n",
    "    # Gene-set enrichment\n",
    "    pre_res = compute_geneset_enrichment(mdata, prog_key='cNMF', data_key='rna', prog_nam=None,\n",
    "                                        organism='human', library='Reactome_2022', method=\"fisher\",\n",
    "                                        database='enrichr', loading_rank_thresh=300, n_jobs=-1, \n",
    "                                        inplace=False, user_geneset=None)\n",
    "    pre_res.to_csv('{}/{}_geneset_enrichment.txt'.format(folder,k), sep='\\t', index=False)\n",
    "\n",
    "    # GO Term enrichment\n",
    "    pre_res = compute_geneset_enrichment(mdata, prog_key='cNMF', data_key='rna', prog_nam=None,\n",
    "                                        organism='human', library='GO_Biological_Process_2023', method=\"fisher\",\n",
    "                                        database='enrichr', loading_rank_thresh=300, n_jobs=-1, \n",
    "                                        inplace=False, user_geneset=None)\n",
    "    pre_res.to_csv('{}/{}_GO_term_enrichment.txt'.format(folder,k), sep='\\t', index=False)\n",
    "\n",
    "    # Run trait enrichment\n",
    "    pre_res_trait = compute_trait_enrichment(mdata, gwas_data='/oak/stanford/groups/engreitz/Users/ymo/Tools/cNMF_benchmarking/cNMF_benchmakring_pipeline/Evaluation/Resources/OpenTargets_L2G_Filtered.csv.gz', \n",
    "                                            prog_key='cNMF', prog_nam=None, data_key='rna', \n",
    "                                            library='OT_GWAS', n_jobs=-1, inplace=False, \n",
    "                                            key_column='trait_efos', gene_column='gene_name', \n",
    "                                            method='fisher', loading_rank_thresh=300)\n",
    "    pre_res_trait.to_csv('{}/{}_trait_enrichment.txt'.format(folder,k), sep='\\t', index=False)\n",
    "\n",
    "    "
   ]
  },
  {
   "cell_type": "markdown",
   "metadata": {},
   "source": [
    "# Motif Enrichment"
   ]
  },
  {
   "cell_type": "code",
   "execution_count": null,
   "metadata": {},
   "outputs": [],
   "source": [
    "# Thresholds\n",
    "score_thresh_abc_e2g_enhancer = 0.015\n",
    "score_thresh_abc_e2g_promoter = 0.8\n",
    "fimo_thresh_enhancer = 1e-6\n",
    "fimo_thresh_promoter = 1e-4\n",
    "\n",
    "output_path = 'cNMF_100/'"
   ]
  },
  {
   "cell_type": "code",
   "execution_count": null,
   "metadata": {},
   "outputs": [],
   "source": [
    "# # Format files\n",
    "# for i in range(4):\n",
    "#     e2g = pd.read_csv('scE2G_links/EnhancerPredictionsAllPutative.ForVariantOverlap.shrunk150bp_D{}.tsv'.format(i), sep='\\t')\n",
    "\n",
    "#     e2g_enhancers = e2g.loc[(e2g['class']!='promoter') &\\\n",
    "#                             (e2g['ABC.Score']>score_thresh_abc_e2g_enhancer)]\n",
    "#     e2g_enhancers = e2g_enhancers.loc[:,['chr', 'start', 'end', 'name', 'class', 'ABC.Score', 'TargetGene']]\n",
    "#     e2g_enhancers.columns = [        'chromosome', 'start', 'end', 'seq_name', 'seq_class', 'seq_score', 'gene_name']\n",
    "\n",
    "#     e2g_enhancers.to_csv('scE2G_links/EnhancerPredictionsAllPutative.ForVariantOverlap.shrunk150bp_D{}_enhancer.tsv'.format(i), \n",
    "#                           sep='\\t', index=False)\n",
    "\n",
    "#     e2g_promoters = e2g.loc[(e2g['class']=='promoter') &\\\n",
    "#                             (e2g['ABC.Score']>score_thresh_abc_e2g_promoter)]\n",
    "#     e2g_promoters = e2g_promoters.loc[:,['chr', 'start', 'end', 'name', 'class', 'ABC.Score', 'TargetGene']]\n",
    "#     e2g_promoters.columns = ['chromosome', 'start', 'end', 'seq_name', 'seq_class', 'seq_score', 'gene_name']\n",
    "\n",
    "#     e2g_promoters.to_csv('scE2G_links/EnhancerPredictionsAllPutative.ForVariantOverlap.shrunk150bp_D{}_promoter.tsv'.format(i), \n",
    "#                         sep='\\t', index=False)"
   ]
  },
  {
   "cell_type": "code",
   "execution_count": null,
   "metadata": {},
   "outputs": [],
   "source": [
    "# Load program data\n",
    "mdata = mudata.read('../../shared/240810_ipsc_ec_cNMF_analysis/cNMF_100_0.2_gene_names.h5mu')\n",
    "mdata"
   ]
  },
  {
   "cell_type": "code",
   "execution_count": null,
   "metadata": {},
   "outputs": [],
   "source": [
    "# # Run in script\n",
    "\n",
    "# # Run motif enrichment and save results\n",
    "# os.makedirs(output_path, exist_ok=True)\n",
    "# for i in range(4):\n",
    "#     for class_, thresh in [('enhancer', fimo_thresh_enhancer), \n",
    "#                            ('promoter', fimo_thresh_promoter)]:\n",
    "\n",
    "#         loci_file = 'scE2G_links/EnhancerPredictionsAllPutative.ForVariantOverlap.shrunk150bp_D{}_{}.tsv'.format(i, class_)\n",
    "\n",
    "#         motif_match_df, motif_count_df, motif_enrichment_df = compute_motif_enrichment(\n",
    "#             mdata, \n",
    "#             prog_key='cNMF',\n",
    "#             data_key='rna',\n",
    "#             motif_file='../../../gene_program_evaluation/gene_network_evaluation/smk/resources/hocomoco_meme.meme',\n",
    "#             seq_file='../../../../data/hg38/hg38.fa',\n",
    "#             loci_file=loci_file,\n",
    "#             window=1000,\n",
    "#             sig=thresh,\n",
    "#             eps=1e-4,\n",
    "#             n_top=2000,\n",
    "#             n_jobs=-1,\n",
    "#             inplace=False\n",
    "#         )\n",
    "\n",
    "#         motif_match_df.to_csv(os.path.join(output_path, f'cNMF_{class_}_pearson_topn2000_sample_D{i}_motif_match.txt'), sep='\\t', index=False)\n",
    "#         motif_count_df.to_csv(os.path.join(output_path, f'cNMF_{class_}_pearson_topn2000_sample_D{i}_motif_count.txt'), sep='\\t', index=False)\n",
    "#         motif_enrichment_df.to_csv(os.path.join(output_path, f'cNMF_{class_}_pearson_topn2000_sample_D{i}_motif_enrichment.txt'), sep='\\t', index=False)"
   ]
  },
  {
   "cell_type": "code",
   "execution_count": null,
   "metadata": {},
   "outputs": [],
   "source": [
    "# Import motif enrichments\n",
    "motif_enrichment_data = []\n",
    "for fil in os.listdir('cNMF_100'):\n",
    "    if 'motif_enrichment' in fil:\n",
    "        motif_enrichment_data_ = pd.read_csv('cNMF_100/{}'.format(fil), sep='\\t')\n",
    "        motif_enrichment_data_['sample'] = fil.split('sample_')[-1].split('_motif')[0]\n",
    "        if 'promoter' in fil:\n",
    "            motif_enrichment_data_['class'] = 'promoter'\n",
    "        elif 'enhancer' in fil:\n",
    "            motif_enrichment_data_['class'] = 'enhancer'            \n",
    "\n",
    "        motif_enrichment_data.append(motif_enrichment_data_)\n",
    "\n",
    "motif_enrichment_data = pd.concat(motif_enrichment_data, ignore_index=True)\n",
    "# motif_enrichment_data.to_csv('cNMF_100_motif_enrichment.txt', sep='\\t')\n",
    "# motif_enrichment_data.loc[motif_enrichment_data['class']=='promoter'].to_csv('cNMF_100_motif_enrichment_promoter.txt', sep='\\t')\n",
    "# motif_enrichment_data.loc[motif_enrichment_data['class']=='enhancer'].to_csv('cNMF_100_motif_enrichment_enhancer.txt', sep='\\t')"
   ]
  },
  {
   "cell_type": "code",
   "execution_count": null,
   "metadata": {},
   "outputs": [],
   "source": [
    "# Make summary table column\n",
    "for seq_class in ['promoter', 'enhancer']:\n",
    "    motif_enrichment_data_ = motif_enrichment_data.loc[motif_enrichment_data['class']==seq_class]\n",
    "    motif_enrichment_data_ = motif_enrichment_data_.groupby(['sample', 'program_name', 'motif']).min().reset_index()\n",
    "\n",
    "    motif_summary_data = pd.DataFrame(index=motif_enrichment_data_.program_name.unique(), columns=['top10_motifs', 'num_enriched_motifs'])\n",
    "    for prog in motif_enrichment_data_.program_name.unique():\n",
    "        motif_summary_data_ = motif_enrichment_data_.loc[(motif_enrichment_data_.program_name==prog) & ((motif_enrichment_data_.adj_pval<=0.05))]\n",
    "        motif_summary_data_ = motif_summary_data_.sort_values('stat', ascending=False).head(10).motif.values\n",
    "        motif_summary_data.loc[prog,'top10_motifs'] = ', '.join(motif_summary_data_.tolist())\n",
    "        motif_summary_data.loc[prog, 'num_enriched_motifs'] = motif_enrichment_data_.loc[(motif_enrichment_data_.program_name==prog) & ((motif_enrichment_data_.adj_pval<=0.05))].shape[0]\n",
    "        \n",
    "    motif_summary_data.to_csv('motif_summary_data_{}.txt'.format(seq_class), sep='\\t')"
   ]
  },
  {
   "cell_type": "code",
   "execution_count": null,
   "metadata": {},
   "outputs": [],
   "source": [
    "# # Copy out to dashboard\n",
    "# out_dir = '../../shared/250110_ipsc_ec_dashboard_setup/cNMF_100/'\n",
    "# for fil in os.listdir('cNMF_100'):\n",
    "#     if 'motif_' in fil:\n",
    "#         class_ = fil.split('_')[1]\n",
    "#         name = fil.split('_sample_')[1]\n",
    "#         new_nam = f'cNMF_100_{class_}_test_pearsonr_sample_{name}'\n",
    "#         if not name.startswith('D0'):\n",
    "#             new_nam = new_nam.replace('sample_', 'sample_sample_')\n",
    "#         os.system('cp {} {}'.format(os.path.join('cNMF_100', fil),\n",
    "#                                     os.path.join(out_dir, new_nam)))"
   ]
  }
 ],
 "metadata": {
  "kernelspec": {
   "display_name": "NMF_Benchmarking",
   "language": "python",
   "name": "python3"
  },
  "language_info": {
   "codemirror_mode": {
    "name": "ipython",
    "version": 3
   },
   "file_extension": ".py",
   "mimetype": "text/x-python",
   "name": "python",
   "nbconvert_exporter": "python",
   "pygments_lexer": "ipython3",
   "version": "3.9.0"
  },
  "orig_nbformat": 4
 },
 "nbformat": 4,
 "nbformat_minor": 2
}
