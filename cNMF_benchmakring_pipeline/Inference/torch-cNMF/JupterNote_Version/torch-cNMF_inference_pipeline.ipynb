{
 "cells": [
  {
   "cell_type": "code",
   "execution_count": 7,
   "metadata": {},
   "outputs": [],
   "source": [
    "import pandas as pd\n",
    "import numpy as np\n",
    "import matplotlib.pyplot as plt\n",
    "from IPython.display import Image\n",
    "from matplotlib import gridspec\n",
    "import scanpy as sc\n",
    "from pathlib import Path\n",
    "import scanpy as sc\n",
    "import anndata\n",
    "import muon \n",
    "import cnmf\n",
    "import os"
   ]
  },
  {
   "cell_type": "code",
   "execution_count": 8,
   "metadata": {},
   "outputs": [],
   "source": [
    "numiter=10  \n",
    "numhvgenes=5451  \n",
    "K = [30, 50, 60, 80, 100, 200, 250, 300] \n",
    "seed = 14\n",
    "loss = 'frobenius'\n",
    "init = 'random'\n",
    "mode = \"batch\"\n",
    "algo = 'mu'\n",
    "tol = 1e-4\n",
    "batch_max_iter = 500\n",
    "online_max_pass = 20\n",
    "online_chunk_size = 5000\n",
    "online_chunk_max_iter = 200\n",
    "online_usage_tol = 0.05\n",
    "online_spectra_tol = 0.05\n",
    "\n",
    "\n",
    "counts_fn = \"/oak/stanford/groups/engreitz/Users/ymo/NMF_re-inplementing/Cell_data/10K_cell.h5ad\"\n",
    "output_directory = \"/oak/stanford/groups/engreitz/Users/ymo/NMF_re-inplementing/Results/torch-cNMF_evaluation\"\n",
    "run_name = \"10k_cells_10iter_batch\""
   ]
  },
  {
   "cell_type": "code",
   "execution_count": 9,
   "metadata": {},
   "outputs": [],
   "source": [
    "\n",
    "cnmf_obj = cnmf.cNMF(output_dir=output_directory, name=run_name)\n"
   ]
  },
  {
   "cell_type": "code",
   "execution_count": null,
   "metadata": {},
   "outputs": [],
   "source": [
    "cnmf_obj.prepare(counts_fn=counts_fn, components=K, n_iter=numiter, densify=False, tpm_fn=None, num_highvar_genes=numhvgenes, genes_file=None,\n",
    "                init = init,  beta_loss = loss, \n",
    "                algo = algo,mode = mode, tol=tol, total_workers=1, \n",
    "                seed=seed,  use_gpu = True, \n",
    "                alpha_usage=0.0, alpha_spectra=0.0, \n",
    "                l1_ratio_usage = 0.0, l1_ratio_spectra = 0.0,\n",
    "                online_usage_tol=online_usage_tol, online_spectra_tol=online_spectra_tol,\n",
    "                fp_precision = 'float', \n",
    "                batch_max_iter=batch_max_iter, batch_hals_tol = 0.05, batch_hals_max_iter = 200,\n",
    "                online_max_pass=online_max_pass, online_chunk_size=online_chunk_size, online_chunk_max_iter=online_chunk_max_iter)\n"
   ]
  },
  {
   "cell_type": "code",
   "execution_count": null,
   "metadata": {},
   "outputs": [],
   "source": [
    "cnmf_obj.factorize(total_workers = 1)"
   ]
  },
  {
   "cell_type": "code",
   "execution_count": null,
   "metadata": {},
   "outputs": [],
   "source": [
    "cnmf_obj.combine()"
   ]
  },
  {
   "cell_type": "code",
   "execution_count": null,
   "metadata": {},
   "outputs": [],
   "source": [
    "cnmf_obj.k_selection_plot()"
   ]
  },
  {
   "cell_type": "code",
   "execution_count": 14,
   "metadata": {},
   "outputs": [],
   "source": [
    "from tqdm.auto import tqdm\n",
    "\n",
    "def run_cnmf_consensus(cnmf_obj=None, output_dir=None, name=None, \n",
    "                       components=[7,8,9,10], density_thresholds=[0.01, 0.05, 2.0]):\n",
    "\n",
    "    if cnmf_obj is None:\n",
    "        cnmf_obj = init_cnmf_obj(output_dir=output_dir, name=name)\n",
    "\n",
    "    for k in tqdm(components, desc='Running cNMF'):\n",
    "        for thresh in density_thresholds:\n",
    "            cnmf_obj.consensus(k=k, density_threshold=thresh, show_clustering=True)\n",
    "    "
   ]
  },
  {
   "cell_type": "code",
   "execution_count": null,
   "metadata": {},
   "outputs": [],
   "source": [
    "# Consensus plots with all k to choose thresh\n",
    "\n",
    "sel_thresh = 2\n",
    "run_cnmf_consensus(cnmf_obj, \n",
    "                components=K, \n",
    "                density_thresholds=[2.0])"
   ]
  },
  {
   "cell_type": "code",
   "execution_count": 3,
   "metadata": {},
   "outputs": [],
   "source": [
    "# Save all cNMF scores in separate mudata objects\n",
    "sel_thresh = 2.0\n",
    "components = [30, 50, 60, 80, 100, 200, 250, 300] \n",
    "\n",
    "\n",
    "\n",
    "for k in components:\n",
    "\n",
    "    scores = pd.read_csv('{output_directory}/{run_name}/{run_name}.usages.k_{k}.dt_{sel_thresh}.consensus.txt'.format(\n",
    "                                                                                    output_directory=output_directory,\n",
    "                                                                                    run_name = run_name,\n",
    "                                                                                    k=k,\n",
    "                                                                                    sel_thresh = str(sel_thresh).replace('.','_')),\n",
    "                                                                                    sep='\\t', index_col=0)\n",
    "\n",
    "    loadings = pd.read_csv('{output_directory}/{run_name}/{run_name}.spectra.k_{k}.dt_{sel_thresh}.consensus.txt'.format(\n",
    "                                                                                    output_directory=output_directory,\n",
    "                                                                                    run_name = run_name,\n",
    "                                                                                    k=k,\n",
    "                                                                                    sel_thresh = str(sel_thresh).replace('.','_')),\n",
    "                                                                                    sep='\\t', index_col=0)\n",
    "    \n",
    "\n",
    "    os.makedirs((f'{output_directory}/{run_name}/loading'), exist_ok=True)\n",
    "\n",
    "\n",
    "    scores.to_csv('{output_directory}/{run_name}/loading/cNMF_scores_{k}_{sel_thresh}.txt'.format(\n",
    "                                                                                    output_directory=output_directory,\n",
    "                                                                                    run_name = run_name,\n",
    "                                                                                    k=k,\n",
    "                                                                                    sel_thresh = sel_thresh), sep='\\t')\n",
    "    loadings.T.to_csv('{output_directory}/{run_name}/loading/cNMF_loadings_{k}_{sel_thresh}.txt'.format(     \n",
    "                                                                                    output_directory=output_directory,\n",
    "                                                                                    run_name = run_name,\n",
    "                                                                                    k=k,\n",
    "                                                                                    sel_thresh = sel_thresh), sep='\\t')\n",
    "\n",
    "    adata_ = anndata.read_h5ad('{output_directory}/{run_name}/cnmf_tmp/{run_name}.tpm.h5ad'.format(\n",
    "                                                                                    output_directory=output_directory,\n",
    "                                                                                    run_name = run_name,\n",
    "                                                                                    k=k ))\n",
    "    adata_.var_names_make_unique()\n",
    "    adata_.obs_names_make_unique()\n",
    "\n",
    "    prog_data = anndata.AnnData(X=scores.values, obs=adata_.obs)\n",
    "    prog_data.varm['loadings'] = loadings.values\n",
    "    prog_data.uns['var_names'] = loadings.columns.values\n",
    "\n",
    "\n",
    "    # Make adata\n",
    "    os.makedirs((f'{output_directory}/{run_name}/prog_data'), exist_ok=True)\n",
    "    prog_data.write(f'{output_directory}/{run_name}/prog_data/NMF_{k}_{sel_thresh}.h5ad'.format(\n",
    "                                                                            output_directory=output_directory,\n",
    "                                                                            run_name = run_name,\n",
    "                                                                            k=k,\n",
    "                                                                            sel_thresh = str(sel_thresh).replace('.','_')))\n",
    "\n",
    "    # Make mdata\n",
    "    mdata = muon.MuData({'rna': adata_, 'cNMF': prog_data})\n",
    "\n",
    "    os.makedirs((f'{output_directory}/{run_name}/adata'), exist_ok=True)\n",
    "    mdata.write(f'{output_directory}/{run_name}/adata/cNMF_{k}_{sel_thresh}.h5mu'.format(\n",
    "                                                                            output_directory=output_directory,\n",
    "                                                                            run_name = run_name,\n",
    "                                                                            k=k,\n",
    "                                                                            sel_thresh = str(sel_thresh).replace('.','_')))\n",
    "                                                                            "
   ]
  },
  {
   "cell_type": "code",
   "execution_count": null,
   "metadata": {},
   "outputs": [],
   "source": []
  }
 ],
 "metadata": {
  "kernelspec": {
   "display_name": "NMF_Benchmarking",
   "language": "python",
   "name": "python3"
  },
  "language_info": {
   "codemirror_mode": {
    "name": "ipython",
    "version": 3
   },
   "file_extension": ".py",
   "mimetype": "text/x-python",
   "name": "python",
   "nbconvert_exporter": "python",
   "pygments_lexer": "ipython3",
   "version": "3.9.23"
  }
 },
 "nbformat": 4,
 "nbformat_minor": 2
}
