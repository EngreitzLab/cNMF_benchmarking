{
 "cells": [
  {
   "cell_type": "code",
   "execution_count": 1,
   "metadata": {},
   "outputs": [],
   "source": [
    "import os\n",
    "import shutil\n",
    "from pathlib import Path\n"
   ]
  },
  {
   "cell_type": "markdown",
   "metadata": {},
   "source": [
    "# This file is used to combine parallel inferred sk-cNMF component results into one run"
   ]
  },
  {
   "cell_type": "code",
   "execution_count": 2,
   "metadata": {},
   "outputs": [],
   "source": [
    "def rename_and_move_files(file_name_input, file_name_output, source_folder, destination_folder, len = 10):\n",
    "\n",
    "    # Create destination folder if it doesn't exist\n",
    "    Path(destination_folder).mkdir(parents=True, exist_ok=True)\n",
    "    \n",
    "    processed_files = []\n",
    "    \n",
    "    # Process files for i \n",
    "    for i in range(len):\n",
    "        source_filename = f\"{file_name_input}_{i}.df.npz\"\n",
    "        source_path = os.path.join(source_folder, source_filename)\n",
    "        \n",
    "        # Check if source file exists\n",
    "        if os.path.exists(source_path):\n",
    "            \n",
    "            # Create new filename\n",
    "            new_filename = f\"{file_name_output}_{i}.df.npz\"\n",
    "            destination_path = os.path.join(destination_folder, new_filename)\n",
    "            \n",
    "            try:\n",
    "                # Copy and rename file to destination\n",
    "                shutil.copy2(source_path, destination_path)\n",
    "                print(f\"Successfully processed: {source_filename} -> {new_filename}\")\n",
    "                processed_files.append((source_filename, new_filename))\n",
    "                \n",
    "            except Exception as e:\n",
    "                print(f\"Error processing {source_filename}: {e}\")\n",
    "        else:\n",
    "            print(f\"File not found: {source_filename}\")\n",
    "    \n",
    "    return processed_files\n",
    "\n",
    "\n",
    "def rename_all(file_name_input, file_name_output, source_folder, destination_folder, components = [30, 50, 60, 80, 100, 200, 250, 300]):\n",
    "\n",
    "    for k in components:\n",
    "\n",
    "        file_name_input_new = f\"{file_name_input}_{k}.spectra.k_{k}.iter\"\n",
    "        file_name_output_new = f\"{file_name_output}.spectra.k_{k}.iter\"\n",
    "\n",
    "        source_folder_new = f\"{source_folder}_{k}/cnmf_tmp\"\n",
    "\n",
    "        rename_and_move_files(file_name_input_new, file_name_output_new, source_folder_new, destination_folder)\n"
   ]
  },
  {
   "cell_type": "code",
   "execution_count": 3,
   "metadata": {},
   "outputs": [
    {
     "name": "stdout",
     "output_type": "stream",
     "text": [
      "Successfully processed: 091425_100k_10iter_1000batiter_Htol_sk_cd_frobenius_30.spectra.k_30.iter_0.df.npz -> 091425_100k_10iter_1000batiter_Htol_sk_cd_frobenius_all.spectra.k_30.iter_0.df.npz\n",
      "Successfully processed: 091425_100k_10iter_1000batiter_Htol_sk_cd_frobenius_30.spectra.k_30.iter_1.df.npz -> 091425_100k_10iter_1000batiter_Htol_sk_cd_frobenius_all.spectra.k_30.iter_1.df.npz\n",
      "Successfully processed: 091425_100k_10iter_1000batiter_Htol_sk_cd_frobenius_30.spectra.k_30.iter_2.df.npz -> 091425_100k_10iter_1000batiter_Htol_sk_cd_frobenius_all.spectra.k_30.iter_2.df.npz\n",
      "Successfully processed: 091425_100k_10iter_1000batiter_Htol_sk_cd_frobenius_30.spectra.k_30.iter_3.df.npz -> 091425_100k_10iter_1000batiter_Htol_sk_cd_frobenius_all.spectra.k_30.iter_3.df.npz\n",
      "Successfully processed: 091425_100k_10iter_1000batiter_Htol_sk_cd_frobenius_30.spectra.k_30.iter_4.df.npz -> 091425_100k_10iter_1000batiter_Htol_sk_cd_frobenius_all.spectra.k_30.iter_4.df.npz\n",
      "Successfully processed: 091425_100k_10iter_1000batiter_Htol_sk_cd_frobenius_30.spectra.k_30.iter_5.df.npz -> 091425_100k_10iter_1000batiter_Htol_sk_cd_frobenius_all.spectra.k_30.iter_5.df.npz\n",
      "Successfully processed: 091425_100k_10iter_1000batiter_Htol_sk_cd_frobenius_30.spectra.k_30.iter_6.df.npz -> 091425_100k_10iter_1000batiter_Htol_sk_cd_frobenius_all.spectra.k_30.iter_6.df.npz\n",
      "Successfully processed: 091425_100k_10iter_1000batiter_Htol_sk_cd_frobenius_30.spectra.k_30.iter_7.df.npz -> 091425_100k_10iter_1000batiter_Htol_sk_cd_frobenius_all.spectra.k_30.iter_7.df.npz\n",
      "Successfully processed: 091425_100k_10iter_1000batiter_Htol_sk_cd_frobenius_30.spectra.k_30.iter_8.df.npz -> 091425_100k_10iter_1000batiter_Htol_sk_cd_frobenius_all.spectra.k_30.iter_8.df.npz\n",
      "Successfully processed: 091425_100k_10iter_1000batiter_Htol_sk_cd_frobenius_30.spectra.k_30.iter_9.df.npz -> 091425_100k_10iter_1000batiter_Htol_sk_cd_frobenius_all.spectra.k_30.iter_9.df.npz\n",
      "Successfully processed: 091425_100k_10iter_1000batiter_Htol_sk_cd_frobenius_50.spectra.k_50.iter_0.df.npz -> 091425_100k_10iter_1000batiter_Htol_sk_cd_frobenius_all.spectra.k_50.iter_0.df.npz\n",
      "Successfully processed: 091425_100k_10iter_1000batiter_Htol_sk_cd_frobenius_50.spectra.k_50.iter_1.df.npz -> 091425_100k_10iter_1000batiter_Htol_sk_cd_frobenius_all.spectra.k_50.iter_1.df.npz\n",
      "Successfully processed: 091425_100k_10iter_1000batiter_Htol_sk_cd_frobenius_50.spectra.k_50.iter_2.df.npz -> 091425_100k_10iter_1000batiter_Htol_sk_cd_frobenius_all.spectra.k_50.iter_2.df.npz\n",
      "Successfully processed: 091425_100k_10iter_1000batiter_Htol_sk_cd_frobenius_50.spectra.k_50.iter_3.df.npz -> 091425_100k_10iter_1000batiter_Htol_sk_cd_frobenius_all.spectra.k_50.iter_3.df.npz\n",
      "Successfully processed: 091425_100k_10iter_1000batiter_Htol_sk_cd_frobenius_50.spectra.k_50.iter_4.df.npz -> 091425_100k_10iter_1000batiter_Htol_sk_cd_frobenius_all.spectra.k_50.iter_4.df.npz\n",
      "Successfully processed: 091425_100k_10iter_1000batiter_Htol_sk_cd_frobenius_50.spectra.k_50.iter_5.df.npz -> 091425_100k_10iter_1000batiter_Htol_sk_cd_frobenius_all.spectra.k_50.iter_5.df.npz\n",
      "Successfully processed: 091425_100k_10iter_1000batiter_Htol_sk_cd_frobenius_50.spectra.k_50.iter_6.df.npz -> 091425_100k_10iter_1000batiter_Htol_sk_cd_frobenius_all.spectra.k_50.iter_6.df.npz\n",
      "Successfully processed: 091425_100k_10iter_1000batiter_Htol_sk_cd_frobenius_50.spectra.k_50.iter_7.df.npz -> 091425_100k_10iter_1000batiter_Htol_sk_cd_frobenius_all.spectra.k_50.iter_7.df.npz\n",
      "Successfully processed: 091425_100k_10iter_1000batiter_Htol_sk_cd_frobenius_50.spectra.k_50.iter_8.df.npz -> 091425_100k_10iter_1000batiter_Htol_sk_cd_frobenius_all.spectra.k_50.iter_8.df.npz\n",
      "Successfully processed: 091425_100k_10iter_1000batiter_Htol_sk_cd_frobenius_50.spectra.k_50.iter_9.df.npz -> 091425_100k_10iter_1000batiter_Htol_sk_cd_frobenius_all.spectra.k_50.iter_9.df.npz\n",
      "Successfully processed: 091425_100k_10iter_1000batiter_Htol_sk_cd_frobenius_60.spectra.k_60.iter_0.df.npz -> 091425_100k_10iter_1000batiter_Htol_sk_cd_frobenius_all.spectra.k_60.iter_0.df.npz\n",
      "Successfully processed: 091425_100k_10iter_1000batiter_Htol_sk_cd_frobenius_60.spectra.k_60.iter_1.df.npz -> 091425_100k_10iter_1000batiter_Htol_sk_cd_frobenius_all.spectra.k_60.iter_1.df.npz\n",
      "Successfully processed: 091425_100k_10iter_1000batiter_Htol_sk_cd_frobenius_60.spectra.k_60.iter_2.df.npz -> 091425_100k_10iter_1000batiter_Htol_sk_cd_frobenius_all.spectra.k_60.iter_2.df.npz\n",
      "Successfully processed: 091425_100k_10iter_1000batiter_Htol_sk_cd_frobenius_60.spectra.k_60.iter_3.df.npz -> 091425_100k_10iter_1000batiter_Htol_sk_cd_frobenius_all.spectra.k_60.iter_3.df.npz\n",
      "Successfully processed: 091425_100k_10iter_1000batiter_Htol_sk_cd_frobenius_60.spectra.k_60.iter_4.df.npz -> 091425_100k_10iter_1000batiter_Htol_sk_cd_frobenius_all.spectra.k_60.iter_4.df.npz\n",
      "Successfully processed: 091425_100k_10iter_1000batiter_Htol_sk_cd_frobenius_60.spectra.k_60.iter_5.df.npz -> 091425_100k_10iter_1000batiter_Htol_sk_cd_frobenius_all.spectra.k_60.iter_5.df.npz\n",
      "Successfully processed: 091425_100k_10iter_1000batiter_Htol_sk_cd_frobenius_60.spectra.k_60.iter_6.df.npz -> 091425_100k_10iter_1000batiter_Htol_sk_cd_frobenius_all.spectra.k_60.iter_6.df.npz\n",
      "Successfully processed: 091425_100k_10iter_1000batiter_Htol_sk_cd_frobenius_60.spectra.k_60.iter_7.df.npz -> 091425_100k_10iter_1000batiter_Htol_sk_cd_frobenius_all.spectra.k_60.iter_7.df.npz\n",
      "Successfully processed: 091425_100k_10iter_1000batiter_Htol_sk_cd_frobenius_60.spectra.k_60.iter_8.df.npz -> 091425_100k_10iter_1000batiter_Htol_sk_cd_frobenius_all.spectra.k_60.iter_8.df.npz\n",
      "Successfully processed: 091425_100k_10iter_1000batiter_Htol_sk_cd_frobenius_60.spectra.k_60.iter_9.df.npz -> 091425_100k_10iter_1000batiter_Htol_sk_cd_frobenius_all.spectra.k_60.iter_9.df.npz\n",
      "Successfully processed: 091425_100k_10iter_1000batiter_Htol_sk_cd_frobenius_80.spectra.k_80.iter_0.df.npz -> 091425_100k_10iter_1000batiter_Htol_sk_cd_frobenius_all.spectra.k_80.iter_0.df.npz\n",
      "Successfully processed: 091425_100k_10iter_1000batiter_Htol_sk_cd_frobenius_80.spectra.k_80.iter_1.df.npz -> 091425_100k_10iter_1000batiter_Htol_sk_cd_frobenius_all.spectra.k_80.iter_1.df.npz\n",
      "Successfully processed: 091425_100k_10iter_1000batiter_Htol_sk_cd_frobenius_80.spectra.k_80.iter_2.df.npz -> 091425_100k_10iter_1000batiter_Htol_sk_cd_frobenius_all.spectra.k_80.iter_2.df.npz\n",
      "Successfully processed: 091425_100k_10iter_1000batiter_Htol_sk_cd_frobenius_80.spectra.k_80.iter_3.df.npz -> 091425_100k_10iter_1000batiter_Htol_sk_cd_frobenius_all.spectra.k_80.iter_3.df.npz\n",
      "Successfully processed: 091425_100k_10iter_1000batiter_Htol_sk_cd_frobenius_80.spectra.k_80.iter_4.df.npz -> 091425_100k_10iter_1000batiter_Htol_sk_cd_frobenius_all.spectra.k_80.iter_4.df.npz\n",
      "Successfully processed: 091425_100k_10iter_1000batiter_Htol_sk_cd_frobenius_80.spectra.k_80.iter_5.df.npz -> 091425_100k_10iter_1000batiter_Htol_sk_cd_frobenius_all.spectra.k_80.iter_5.df.npz\n",
      "Successfully processed: 091425_100k_10iter_1000batiter_Htol_sk_cd_frobenius_80.spectra.k_80.iter_6.df.npz -> 091425_100k_10iter_1000batiter_Htol_sk_cd_frobenius_all.spectra.k_80.iter_6.df.npz\n",
      "Successfully processed: 091425_100k_10iter_1000batiter_Htol_sk_cd_frobenius_80.spectra.k_80.iter_7.df.npz -> 091425_100k_10iter_1000batiter_Htol_sk_cd_frobenius_all.spectra.k_80.iter_7.df.npz\n",
      "Successfully processed: 091425_100k_10iter_1000batiter_Htol_sk_cd_frobenius_80.spectra.k_80.iter_8.df.npz -> 091425_100k_10iter_1000batiter_Htol_sk_cd_frobenius_all.spectra.k_80.iter_8.df.npz\n",
      "Successfully processed: 091425_100k_10iter_1000batiter_Htol_sk_cd_frobenius_80.spectra.k_80.iter_9.df.npz -> 091425_100k_10iter_1000batiter_Htol_sk_cd_frobenius_all.spectra.k_80.iter_9.df.npz\n",
      "Successfully processed: 091425_100k_10iter_1000batiter_Htol_sk_cd_frobenius_100.spectra.k_100.iter_0.df.npz -> 091425_100k_10iter_1000batiter_Htol_sk_cd_frobenius_all.spectra.k_100.iter_0.df.npz\n",
      "Successfully processed: 091425_100k_10iter_1000batiter_Htol_sk_cd_frobenius_100.spectra.k_100.iter_1.df.npz -> 091425_100k_10iter_1000batiter_Htol_sk_cd_frobenius_all.spectra.k_100.iter_1.df.npz\n",
      "Successfully processed: 091425_100k_10iter_1000batiter_Htol_sk_cd_frobenius_100.spectra.k_100.iter_2.df.npz -> 091425_100k_10iter_1000batiter_Htol_sk_cd_frobenius_all.spectra.k_100.iter_2.df.npz\n",
      "Successfully processed: 091425_100k_10iter_1000batiter_Htol_sk_cd_frobenius_100.spectra.k_100.iter_3.df.npz -> 091425_100k_10iter_1000batiter_Htol_sk_cd_frobenius_all.spectra.k_100.iter_3.df.npz\n",
      "Successfully processed: 091425_100k_10iter_1000batiter_Htol_sk_cd_frobenius_100.spectra.k_100.iter_4.df.npz -> 091425_100k_10iter_1000batiter_Htol_sk_cd_frobenius_all.spectra.k_100.iter_4.df.npz\n",
      "Successfully processed: 091425_100k_10iter_1000batiter_Htol_sk_cd_frobenius_100.spectra.k_100.iter_5.df.npz -> 091425_100k_10iter_1000batiter_Htol_sk_cd_frobenius_all.spectra.k_100.iter_5.df.npz\n",
      "Successfully processed: 091425_100k_10iter_1000batiter_Htol_sk_cd_frobenius_100.spectra.k_100.iter_6.df.npz -> 091425_100k_10iter_1000batiter_Htol_sk_cd_frobenius_all.spectra.k_100.iter_6.df.npz\n",
      "Successfully processed: 091425_100k_10iter_1000batiter_Htol_sk_cd_frobenius_100.spectra.k_100.iter_7.df.npz -> 091425_100k_10iter_1000batiter_Htol_sk_cd_frobenius_all.spectra.k_100.iter_7.df.npz\n",
      "Successfully processed: 091425_100k_10iter_1000batiter_Htol_sk_cd_frobenius_100.spectra.k_100.iter_8.df.npz -> 091425_100k_10iter_1000batiter_Htol_sk_cd_frobenius_all.spectra.k_100.iter_8.df.npz\n",
      "Successfully processed: 091425_100k_10iter_1000batiter_Htol_sk_cd_frobenius_100.spectra.k_100.iter_9.df.npz -> 091425_100k_10iter_1000batiter_Htol_sk_cd_frobenius_all.spectra.k_100.iter_9.df.npz\n",
      "Successfully processed: 091425_100k_10iter_1000batiter_Htol_sk_cd_frobenius_200.spectra.k_200.iter_0.df.npz -> 091425_100k_10iter_1000batiter_Htol_sk_cd_frobenius_all.spectra.k_200.iter_0.df.npz\n",
      "Successfully processed: 091425_100k_10iter_1000batiter_Htol_sk_cd_frobenius_200.spectra.k_200.iter_1.df.npz -> 091425_100k_10iter_1000batiter_Htol_sk_cd_frobenius_all.spectra.k_200.iter_1.df.npz\n",
      "Successfully processed: 091425_100k_10iter_1000batiter_Htol_sk_cd_frobenius_200.spectra.k_200.iter_2.df.npz -> 091425_100k_10iter_1000batiter_Htol_sk_cd_frobenius_all.spectra.k_200.iter_2.df.npz\n",
      "Successfully processed: 091425_100k_10iter_1000batiter_Htol_sk_cd_frobenius_200.spectra.k_200.iter_3.df.npz -> 091425_100k_10iter_1000batiter_Htol_sk_cd_frobenius_all.spectra.k_200.iter_3.df.npz\n",
      "Successfully processed: 091425_100k_10iter_1000batiter_Htol_sk_cd_frobenius_200.spectra.k_200.iter_4.df.npz -> 091425_100k_10iter_1000batiter_Htol_sk_cd_frobenius_all.spectra.k_200.iter_4.df.npz\n",
      "Successfully processed: 091425_100k_10iter_1000batiter_Htol_sk_cd_frobenius_200.spectra.k_200.iter_5.df.npz -> 091425_100k_10iter_1000batiter_Htol_sk_cd_frobenius_all.spectra.k_200.iter_5.df.npz\n",
      "Successfully processed: 091425_100k_10iter_1000batiter_Htol_sk_cd_frobenius_200.spectra.k_200.iter_6.df.npz -> 091425_100k_10iter_1000batiter_Htol_sk_cd_frobenius_all.spectra.k_200.iter_6.df.npz\n",
      "Successfully processed: 091425_100k_10iter_1000batiter_Htol_sk_cd_frobenius_200.spectra.k_200.iter_7.df.npz -> 091425_100k_10iter_1000batiter_Htol_sk_cd_frobenius_all.spectra.k_200.iter_7.df.npz\n",
      "Successfully processed: 091425_100k_10iter_1000batiter_Htol_sk_cd_frobenius_200.spectra.k_200.iter_8.df.npz -> 091425_100k_10iter_1000batiter_Htol_sk_cd_frobenius_all.spectra.k_200.iter_8.df.npz\n",
      "Successfully processed: 091425_100k_10iter_1000batiter_Htol_sk_cd_frobenius_200.spectra.k_200.iter_9.df.npz -> 091425_100k_10iter_1000batiter_Htol_sk_cd_frobenius_all.spectra.k_200.iter_9.df.npz\n"
     ]
    }
   ],
   "source": [
    "source_dir = \"/oak/stanford/groups/engreitz/Users/ymo/NMF_re-inplementing/Results/sk-cNMF_evaluation/091425_100k_10iter_1000batiter_Htol_sk_cd_frobenius/091425_100k_10iter_1000batiter_Htol_sk_cd_frobenius\"\n",
    "dest_dir = \"/oak/stanford/groups/engreitz/Users/ymo/NMF_re-inplementing/Results/sk-cNMF_evaluation/091425_100k_10iter_1000batiter_Htol_sk_cd_frobenius/091425_100k_10iter_1000batiter_Htol_sk_cd_frobenius_all/cnmf_tmp\"\n",
    "\n",
    "file_name_input = \"091425_100k_10iter_1000batiter_Htol_sk_cd_frobenius\"\n",
    "file_name_output =  \"091425_100k_10iter_1000batiter_Htol_sk_cd_frobenius_all\"\n",
    "\n",
    "rename_all(file_name_input,file_name_output,source_dir, dest_dir, components = [30, 50, 60, 80, 100, 200] )"
   ]
  },
  {
   "cell_type": "code",
   "execution_count": null,
   "metadata": {},
   "outputs": [],
   "source": []
  }
 ],
 "metadata": {
  "kernelspec": {
   "display_name": "NMF_Benchmarking",
   "language": "python",
   "name": "python3"
  },
  "language_info": {
   "codemirror_mode": {
    "name": "ipython",
    "version": 3
   },
   "file_extension": ".py",
   "mimetype": "text/x-python",
   "name": "python",
   "nbconvert_exporter": "python",
   "pygments_lexer": "ipython3",
   "version": "3.9.0"
  }
 },
 "nbformat": 4,
 "nbformat_minor": 2
}
